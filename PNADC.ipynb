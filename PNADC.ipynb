{
 "cells": [
  {
   "cell_type": "code",
   "execution_count": 1,
   "metadata": {},
   "outputs": [],
   "source": [
    "import pandas as pd\n",
    "import numpy as np\n",
    "from matplotlib import pyplot as plt\n",
    "from matplotlib import rcParams\n",
    "import seaborn as sns"
   ]
  },
  {
   "cell_type": "code",
   "execution_count": 2,
   "metadata": {},
   "outputs": [],
   "source": [
    "pnadc = pd.read_csv('PNADC_unificado.csv',dtype= str)"
   ]
  },
  {
   "cell_type": "code",
   "execution_count": 3,
   "metadata": {},
   "outputs": [
    {
     "data": {
      "text/html": [
       "<div>\n",
       "<style scoped>\n",
       "    .dataframe tbody tr th:only-of-type {\n",
       "        vertical-align: middle;\n",
       "    }\n",
       "\n",
       "    .dataframe tbody tr th {\n",
       "        vertical-align: top;\n",
       "    }\n",
       "\n",
       "    .dataframe thead th {\n",
       "        text-align: right;\n",
       "    }\n",
       "</style>\n",
       "<table border=\"1\" class=\"dataframe\">\n",
       "  <thead>\n",
       "    <tr style=\"text-align: right;\">\n",
       "      <th></th>\n",
       "      <th>Ano</th>\n",
       "      <th>Trimestre</th>\n",
       "      <th>UF</th>\n",
       "      <th>Capital</th>\n",
       "      <th>RM_RIDE</th>\n",
       "      <th>UPA</th>\n",
       "      <th>Estrato</th>\n",
       "      <th>V1008</th>\n",
       "      <th>V1014</th>\n",
       "      <th>V1016</th>\n",
       "      <th>...</th>\n",
       "      <th>VD4020</th>\n",
       "      <th>VD4023</th>\n",
       "      <th>VD4030</th>\n",
       "      <th>VD4031</th>\n",
       "      <th>VD4032</th>\n",
       "      <th>VD4033</th>\n",
       "      <th>VD4034</th>\n",
       "      <th>VD4035</th>\n",
       "      <th>VD4036</th>\n",
       "      <th>VD4037</th>\n",
       "    </tr>\n",
       "  </thead>\n",
       "  <tbody>\n",
       "    <tr>\n",
       "      <td>0</td>\n",
       "      <td>2018</td>\n",
       "      <td>1</td>\n",
       "      <td>31</td>\n",
       "      <td>NaN</td>\n",
       "      <td>NaN</td>\n",
       "      <td>310173951</td>\n",
       "      <td>3155011</td>\n",
       "      <td>11</td>\n",
       "      <td>06</td>\n",
       "      <td>2</td>\n",
       "      <td>...</td>\n",
       "      <td>NaN</td>\n",
       "      <td>.</td>\n",
       "      <td>3</td>\n",
       "      <td>.</td>\n",
       "      <td>.</td>\n",
       "      <td>.</td>\n",
       "      <td>.</td>\n",
       "      <td>.</td>\n",
       "      <td>NaN</td>\n",
       "      <td>NaN</td>\n",
       "    </tr>\n",
       "    <tr>\n",
       "      <td>1</td>\n",
       "      <td>2018</td>\n",
       "      <td>1</td>\n",
       "      <td>27</td>\n",
       "      <td>NaN</td>\n",
       "      <td>NaN</td>\n",
       "      <td>270021100</td>\n",
       "      <td>2753022</td>\n",
       "      <td>12</td>\n",
       "      <td>06</td>\n",
       "      <td>2</td>\n",
       "      <td>...</td>\n",
       "      <td>NaN</td>\n",
       "      <td>.</td>\n",
       "      <td>NaN</td>\n",
       "      <td>.</td>\n",
       "      <td>.</td>\n",
       "      <td>.</td>\n",
       "      <td>.</td>\n",
       "      <td>.</td>\n",
       "      <td>NaN</td>\n",
       "      <td>NaN</td>\n",
       "    </tr>\n",
       "    <tr>\n",
       "      <td>2</td>\n",
       "      <td>2018</td>\n",
       "      <td>1</td>\n",
       "      <td>25</td>\n",
       "      <td>NaN</td>\n",
       "      <td>NaN</td>\n",
       "      <td>250046841</td>\n",
       "      <td>2551010</td>\n",
       "      <td>09</td>\n",
       "      <td>06</td>\n",
       "      <td>1</td>\n",
       "      <td>...</td>\n",
       "      <td>00002300</td>\n",
       "      <td>.</td>\n",
       "      <td>NaN</td>\n",
       "      <td>040</td>\n",
       "      <td>.</td>\n",
       "      <td>.</td>\n",
       "      <td>.</td>\n",
       "      <td>040</td>\n",
       "      <td>3</td>\n",
       "      <td>3</td>\n",
       "    </tr>\n",
       "    <tr>\n",
       "      <td>3</td>\n",
       "      <td>2018</td>\n",
       "      <td>1</td>\n",
       "      <td>22</td>\n",
       "      <td>22</td>\n",
       "      <td>22</td>\n",
       "      <td>220011415</td>\n",
       "      <td>2210013</td>\n",
       "      <td>02</td>\n",
       "      <td>06</td>\n",
       "      <td>5</td>\n",
       "      <td>...</td>\n",
       "      <td>NaN</td>\n",
       "      <td>.</td>\n",
       "      <td>NaN</td>\n",
       "      <td>.</td>\n",
       "      <td>.</td>\n",
       "      <td>.</td>\n",
       "      <td>.</td>\n",
       "      <td>.</td>\n",
       "      <td>NaN</td>\n",
       "      <td>NaN</td>\n",
       "    </tr>\n",
       "    <tr>\n",
       "      <td>4</td>\n",
       "      <td>2018</td>\n",
       "      <td>1</td>\n",
       "      <td>41</td>\n",
       "      <td>NaN</td>\n",
       "      <td>NaN</td>\n",
       "      <td>410144327</td>\n",
       "      <td>4153012</td>\n",
       "      <td>09</td>\n",
       "      <td>06</td>\n",
       "      <td>1</td>\n",
       "      <td>...</td>\n",
       "      <td>NaN</td>\n",
       "      <td>.</td>\n",
       "      <td>5</td>\n",
       "      <td>.</td>\n",
       "      <td>.</td>\n",
       "      <td>.</td>\n",
       "      <td>.</td>\n",
       "      <td>.</td>\n",
       "      <td>NaN</td>\n",
       "      <td>NaN</td>\n",
       "    </tr>\n",
       "  </tbody>\n",
       "</table>\n",
       "<p>5 rows × 217 columns</p>\n",
       "</div>"
      ],
      "text/plain": [
       "    Ano Trimestre  UF Capital RM_RIDE        UPA  Estrato V1008 V1014 V1016  \\\n",
       "0  2018         1  31     NaN     NaN  310173951  3155011    11    06     2   \n",
       "1  2018         1  27     NaN     NaN  270021100  2753022    12    06     2   \n",
       "2  2018         1  25     NaN     NaN  250046841  2551010    09    06     1   \n",
       "3  2018         1  22      22      22  220011415  2210013    02    06     5   \n",
       "4  2018         1  41     NaN     NaN  410144327  4153012    09    06     1   \n",
       "\n",
       "   ...    VD4020 VD4023 VD4030 VD4031 VD4032 VD4033 VD4034 VD4035 VD4036  \\\n",
       "0  ...       NaN      .      3      .      .      .      .      .    NaN   \n",
       "1  ...       NaN      .    NaN      .      .      .      .      .    NaN   \n",
       "2  ...  00002300      .    NaN    040      .      .      .    040      3   \n",
       "3  ...       NaN      .    NaN      .      .      .      .      .    NaN   \n",
       "4  ...       NaN      .      5      .      .      .      .      .    NaN   \n",
       "\n",
       "  VD4037  \n",
       "0    NaN  \n",
       "1    NaN  \n",
       "2      3  \n",
       "3    NaN  \n",
       "4    NaN  \n",
       "\n",
       "[5 rows x 217 columns]"
      ]
     },
     "execution_count": 3,
     "metadata": {},
     "output_type": "execute_result"
    }
   ],
   "source": [
    "pnadc.head()"
   ]
  },
  {
   "cell_type": "code",
   "execution_count": 4,
   "metadata": {},
   "outputs": [
    {
     "data": {
      "text/plain": [
       "Ano          528557\n",
       "Trimestre    528557\n",
       "UF           528557\n",
       "Capital      121792\n",
       "RM_RIDE      163614\n",
       "              ...  \n",
       "VD4033       491641\n",
       "VD4034       491641\n",
       "VD4035       505797\n",
       "VD4036       221136\n",
       "VD4037       221136\n",
       "Length: 217, dtype: int64"
      ]
     },
     "execution_count": 4,
     "metadata": {},
     "output_type": "execute_result"
    }
   ],
   "source": [
    "pnadc.count()"
   ]
  },
  {
   "cell_type": "code",
   "execution_count": 5,
   "metadata": {},
   "outputs": [
    {
     "data": {
      "text/plain": [
       "array(['1', '2'], dtype=object)"
      ]
     },
     "execution_count": 5,
     "metadata": {},
     "output_type": "execute_result"
    }
   ],
   "source": [
    "pnadc['Sexo'].unique()"
   ]
  },
  {
   "cell_type": "code",
   "execution_count": 6,
   "metadata": {},
   "outputs": [
    {
     "data": {
      "text/plain": [
       "array(['2', '4', '1', '5', '3', '9', nan], dtype=object)"
      ]
     },
     "execution_count": 6,
     "metadata": {},
     "output_type": "execute_result"
    }
   ],
   "source": [
    "pnadc['V2010'].unique()"
   ]
  },
  {
   "cell_type": "code",
   "execution_count": 7,
   "metadata": {},
   "outputs": [],
   "source": [
    "pnadc.columns =[\"Ano\",\"Trimestre\",\"UF\",\"Capital\",\"RM_RIDE\",\"UPA\",\"Estrato\",\"V1008\",\"V1014\",\"V1016\",\"V1022\",\"V1023\",\"V1027\",\"V1028\",\"V1029\",\"posest\",\"Número de pessoas no domicílio\",\"V2003\",\"V2005\",\"Sexo\",\"Dia de nascimento\",\"Mês de nascimento\",\"Ano de nascimento\",\"Idade do morador na data de referência\",\"Cor ou raça\",\"V3001\",\"V3002\",\"V3002A\",\"V3003\",\"V3003A\",\"V3004\",\"V3005\",\"V3005A\",\"V3006\",\"V3006A\",\"V3007\",\"V3008\",\"V3009\",\"V3009A\",\"V3010\",\"V3011\",\"V3011A\",\"V3012\",\"V3013\",\"V3013A\",\"V3013B\",\"V3014\",\"V4001\",\"V4002\",\"V4003\",\"V4004\",\"V4005\",\"V4006\",\"V4006A\",\"V4007\",\"V4008\",\"V40081\",\"V40082\",\"V40083\",\"V4009\",\"V4010\",\"V4012\",\"V40121\",\"V4013\",\"V40132\",\"V40132A\",\"V4014\",\"V4015\",\"V40151\",\"V401511\",\"V401512\",\"V4016\",\"V40161\",\"V40162\",\"V40163\",\"V4017\",\"V40171\",\"V401711\",\"V4018\",\"V40181\",\"V40182\",\"V40183\",\"V4019\",\"V4020\",\"V4021\",\"V4022\",\"V4024\",\"V4025\",\"V4026\",\"V4027\",\"V4028\",\"V4029\",\"V4032\",\"V4033\",\"V40331\",\"V403311\",\"V403312\",\"V40332\",\"V403321\",\"V403322\",\"V40333\",\"V403331\",\"V4034\",\"V40341\",\"V403411\",\"V403412\",\"V40342\",\"V403421\",\"V403422\",\"V4039\",\"V4039C\",\"V4040\",\"V40401\",\"V40402\",\"V40403\",\"V4041\",\"V4043\",\"V40431\",\"V4044\",\"V4045\",\"V4046\",\"V4047\",\"V4048\",\"V4049\",\"V4050\",\"V40501\",\"V405011\",\"V405012\",\"V40502\",\"V405021\",\"V405022\",\"V40503\",\"V405031\",\"V4051\",\"V40511\",\"V405111\",\"V405112\",\"V40512\",\"V405121\",\"V405122\",\"V4056\",\"V4056C\",\"V4057\",\"V4058\",\"V40581\",\"V405811\",\"V405812\",\"V40582\",\"V405821\",\"V405822\",\"V40583\",\"V405831\",\"V40584\",\"V4059\",\"V40591\",\"V405911\",\"V405912\",\"V40592\",\"V405921\",\"V405922\",\"V4062\",\"V4062C\",\"V4063\",\"V4063A\",\"V4064\",\"V4064A\",\"V4071\",\"V4072\",\"V4072A\",\"V4073\",\"V4074\",\"V4074A\",\"V4075A\",\"V4075A1\",\"V4076\",\"V40761\",\"V40762\",\"V40763\",\"V4077\",\"V4078\",\"V4078A\",\"V4082\",\"VD2002\",\"VD2003\",\"VD2004\",\"Nível de instrução\",\"VD3005\",\"VD3006\",\"VD4001\",\"VD4002\",\"VD4003\",\"VD4004\",\"VD4004A\",\"VD4005\",\"VD4007\",\"VD4008\",\"VD4009\",\"VD4010\",\"VD4011\",\"VD4012\",\"VD4013\",\"VD4014\",\"VD4015\",\"VD4016\",\"VD4017\",\"VD4018\",\"VD4019\",\"VD4020\",\"VD4023\",\"VD4030\",\"VD4031\",\"VD4032\",\"VD4033\",\"VD4034\",\"VD4035\",\"VD4036\",\"VD4037\",\n",
    "]"
   ]
  },
  {
   "cell_type": "code",
   "execution_count": 8,
   "metadata": {},
   "outputs": [
    {
     "data": {
      "text/plain": [
       "array(['2', '4', '1', '5', '3', '9', nan], dtype=object)"
      ]
     },
     "execution_count": 8,
     "metadata": {},
     "output_type": "execute_result"
    }
   ],
   "source": [
    "pnadc['Cor ou raça'].unique()"
   ]
  },
  {
   "cell_type": "code",
   "execution_count": 9,
   "metadata": {},
   "outputs": [
    {
     "data": {
      "text/plain": [
       "0              NaN\n",
       "1              NaN\n",
       "2         00002300\n",
       "3              NaN\n",
       "4              NaN\n",
       "            ...   \n",
       "528552         NaN\n",
       "528553         NaN\n",
       "528554         NaN\n",
       "528555         NaN\n",
       "528556    00001050\n",
       "Name: VD4016, Length: 528557, dtype: object"
      ]
     },
     "execution_count": 9,
     "metadata": {},
     "output_type": "execute_result"
    }
   ],
   "source": [
    "pnadc['VD4016']"
   ]
  },
  {
   "cell_type": "code",
   "execution_count": 10,
   "metadata": {},
   "outputs": [],
   "source": [
    "pnadc.columns =[\"Ano\",\"Trimestre\",\"UF\",\"Capital\",\"RM_RIDE\",\"UPA\",\"Estrato\",\"V1008\",\"V1014\",\"V1016\",\"V1022\",\"V1023\",\"V1027\",\"V1028\",\"V1029\",\"posest\",\"Número de pessoas no domicílio\",\"V2003\",\"V2005\",\"Sexo\",\"Dia de nascimento\",\"Mês de nascimento\",\"Ano de nascimento\",\"Idade do morador na data de referência\",\"Cor ou raça\",\"V3001\",\"V3002\",\"V3002A\",\"V3003\",\"V3003A\",\"V3004\",\"V3005\",\"V3005A\",\"V3006\",\"V3006A\",\"V3007\",\"V3008\",\"V3009\",\"V3009A\",\"V3010\",\"V3011\",\"V3011A\",\"V3012\",\"V3013\",\"V3013A\",\"V3013B\",\"V3014\",\"V4001\",\"V4002\",\"V4003\",\"V4004\",\"V4005\",\"V4006\",\"V4006A\",\"V4007\",\"V4008\",\"V40081\",\"V40082\",\"V40083\",\"V4009\",\"V4010\",\"V4012\",\"V40121\",\"V4013\",\"V40132\",\"V40132A\",\"V4014\",\"V4015\",\"V40151\",\"V401511\",\"V401512\",\"V4016\",\"V40161\",\"V40162\",\"V40163\",\"V4017\",\"V40171\",\"V401711\",\"V4018\",\"V40181\",\"V40182\",\"V40183\",\"V4019\",\"V4020\",\"V4021\",\"V4022\",\"V4024\",\"V4025\",\"V4026\",\"V4027\",\"V4028\",\"V4029\",\"V4032\",\"V4033\",\"V40331\",\"Faixa de rendimento\",\"V403312\",\"V40332\",\"V403321\",\"V403322\",\"V40333\",\"V403331\",\"V4034\",\"V40341\",\"V403411\",\"V403412\",\"V40342\",\"V403421\",\"V403422\",\"V4039\",\"V4039C\",\"V4040\",\"V40401\",\"V40402\",\"V40403\",\"V4041\",\"V4043\",\"V40431\",\"V4044\",\"V4045\",\"V4046\",\"V4047\",\"V4048\",\"V4049\",\"V4050\",\"V40501\",\"V405011\",\"V405012\",\"V40502\",\"V405021\",\"V405022\",\"V40503\",\"V405031\",\"V4051\",\"V40511\",\"V405111\",\"V405112\",\"V40512\",\"V405121\",\"V405122\",\"V4056\",\"V4056C\",\"V4057\",\"V4058\",\"V40581\",\"V405811\",\"V405812\",\"V40582\",\"V405821\",\"V405822\",\"V40583\",\"V405831\",\"V40584\",\"V4059\",\"V40591\",\"V405911\",\"V405912\",\"V40592\",\"V405921\",\"V405922\",\"V4062\",\"V4062C\",\"V4063\",\"V4063A\",\"V4064\",\"V4064A\",\"V4071\",\"V4072\",\"V4072A\",\"V4073\",\"V4074\",\"V4074A\",\"V4075A\",\"V4075A1\",\"V4076\",\"V40761\",\"V40762\",\"V40763\",\"V4077\",\"V4078\",\"V4078A\",\"V4082\",\"VD2002\",\"VD2003\",\"VD2004\",\"Nível de instrução\",\"Anos de estudo\",\"VD3006\",\"Condição em relação à força de trabalho\",\"VD4002\",\"VD4003\",\"VD4004\",\"VD4004A\",\"VD4005\",\"VD4007\",\"VD4008\",\"Tipo de ocupação\",\"Atividade\",\"grupo ocupacional\",\"VD4012\",\"Horas trabalhadas\",\"VD4014\",\"VD4015\",\"VD4016\",\"VD4017\",\"VD4018\",\"VD4019\",\"VD4020\",\"VD4023\",\"VD4030\",\"VD4031\",\"VD4032\",\"VD4033\",\"VD4034\",\"VD4035\",\"VD4036\",\"VD4037\",\n",
    "]"
   ]
  },
  {
   "cell_type": "code",
   "execution_count": 11,
   "metadata": {},
   "outputs": [
    {
     "data": {
      "text/html": [
       "<div>\n",
       "<style scoped>\n",
       "    .dataframe tbody tr th:only-of-type {\n",
       "        vertical-align: middle;\n",
       "    }\n",
       "\n",
       "    .dataframe tbody tr th {\n",
       "        vertical-align: top;\n",
       "    }\n",
       "\n",
       "    .dataframe thead th {\n",
       "        text-align: right;\n",
       "    }\n",
       "</style>\n",
       "<table border=\"1\" class=\"dataframe\">\n",
       "  <thead>\n",
       "    <tr style=\"text-align: right;\">\n",
       "      <th></th>\n",
       "      <th>Ano</th>\n",
       "      <th>Trimestre</th>\n",
       "      <th>UF</th>\n",
       "      <th>Sexo</th>\n",
       "      <th>Idade do morador na data de referência</th>\n",
       "      <th>Cor ou raça</th>\n",
       "      <th>Faixa de rendimento</th>\n",
       "      <th>Nível de instrução</th>\n",
       "      <th>Anos de estudo</th>\n",
       "      <th>Condição em relação à força de trabalho</th>\n",
       "      <th>Tipo de ocupação</th>\n",
       "      <th>grupo ocupacional</th>\n",
       "      <th>Horas trabalhadas</th>\n",
       "    </tr>\n",
       "  </thead>\n",
       "  <tbody>\n",
       "    <tr>\n",
       "      <td>0</td>\n",
       "      <td>2018</td>\n",
       "      <td>1</td>\n",
       "      <td>31</td>\n",
       "      <td>1</td>\n",
       "      <td>056</td>\n",
       "      <td>2</td>\n",
       "      <td>NaN</td>\n",
       "      <td>2</td>\n",
       "      <td>05</td>\n",
       "      <td>2</td>\n",
       "      <td>NaN</td>\n",
       "      <td>NaN</td>\n",
       "      <td>NaN</td>\n",
       "    </tr>\n",
       "    <tr>\n",
       "      <td>1</td>\n",
       "      <td>2018</td>\n",
       "      <td>1</td>\n",
       "      <td>27</td>\n",
       "      <td>2</td>\n",
       "      <td>004</td>\n",
       "      <td>4</td>\n",
       "      <td>NaN</td>\n",
       "      <td>NaN</td>\n",
       "      <td>NaN</td>\n",
       "      <td>NaN</td>\n",
       "      <td>NaN</td>\n",
       "      <td>NaN</td>\n",
       "      <td>NaN</td>\n",
       "    </tr>\n",
       "    <tr>\n",
       "      <td>2</td>\n",
       "      <td>2018</td>\n",
       "      <td>1</td>\n",
       "      <td>25</td>\n",
       "      <td>2</td>\n",
       "      <td>028</td>\n",
       "      <td>4</td>\n",
       "      <td>4</td>\n",
       "      <td>7</td>\n",
       "      <td>16</td>\n",
       "      <td>1</td>\n",
       "      <td>07</td>\n",
       "      <td>02</td>\n",
       "      <td>3</td>\n",
       "    </tr>\n",
       "    <tr>\n",
       "      <td>3</td>\n",
       "      <td>2018</td>\n",
       "      <td>1</td>\n",
       "      <td>22</td>\n",
       "      <td>1</td>\n",
       "      <td>011</td>\n",
       "      <td>4</td>\n",
       "      <td>NaN</td>\n",
       "      <td>2</td>\n",
       "      <td>05</td>\n",
       "      <td>NaN</td>\n",
       "      <td>NaN</td>\n",
       "      <td>NaN</td>\n",
       "      <td>NaN</td>\n",
       "    </tr>\n",
       "    <tr>\n",
       "      <td>4</td>\n",
       "      <td>2018</td>\n",
       "      <td>1</td>\n",
       "      <td>41</td>\n",
       "      <td>2</td>\n",
       "      <td>024</td>\n",
       "      <td>1</td>\n",
       "      <td>NaN</td>\n",
       "      <td>7</td>\n",
       "      <td>16</td>\n",
       "      <td>2</td>\n",
       "      <td>NaN</td>\n",
       "      <td>NaN</td>\n",
       "      <td>NaN</td>\n",
       "    </tr>\n",
       "  </tbody>\n",
       "</table>\n",
       "</div>"
      ],
      "text/plain": [
       "    Ano Trimestre  UF Sexo Idade do morador na data de referência Cor ou raça  \\\n",
       "0  2018         1  31    1                                    056           2   \n",
       "1  2018         1  27    2                                    004           4   \n",
       "2  2018         1  25    2                                    028           4   \n",
       "3  2018         1  22    1                                    011           4   \n",
       "4  2018         1  41    2                                    024           1   \n",
       "\n",
       "  Faixa de rendimento Nível de instrução Anos de estudo  \\\n",
       "0                 NaN                  2             05   \n",
       "1                 NaN                NaN            NaN   \n",
       "2                   4                  7             16   \n",
       "3                 NaN                  2             05   \n",
       "4                 NaN                  7             16   \n",
       "\n",
       "  Condição em relação à força de trabalho Tipo de ocupação grupo ocupacional  \\\n",
       "0                                       2              NaN               NaN   \n",
       "1                                     NaN              NaN               NaN   \n",
       "2                                       1               07                02   \n",
       "3                                     NaN              NaN               NaN   \n",
       "4                                       2              NaN               NaN   \n",
       "\n",
       "  Horas trabalhadas  \n",
       "0               NaN  \n",
       "1               NaN  \n",
       "2                 3  \n",
       "3               NaN  \n",
       "4               NaN  "
      ]
     },
     "execution_count": 11,
     "metadata": {},
     "output_type": "execute_result"
    }
   ],
   "source": [
    "novo_df = pnadc.drop(columns=[\"Capital\",\"RM_RIDE\",\"UPA\",\"Estrato\",\"V1008\",\"V1014\",\"V1016\",\"V1022\",\"V1023\",\"V1027\",\"V1028\",\"V1029\",\"posest\",\"Número de pessoas no domicílio\",\"V2003\",\"V2005\",\"Dia de nascimento\",\"Mês de nascimento\",\"Ano de nascimento\",\"V3001\",\"V3002\",\"V3002A\",\"V3003\",\"V3003A\",\"V3004\",\"V3005\",\"V3005A\",\"V3006\",\"V3006A\",\"V3007\",\"V3008\",\"V3009\",\"V3009A\",\"V3010\",\"V3011\",\"V3011A\",\"V3012\",\"V3013\",\"V3013A\",\"V3013B\",\"V3014\",\"V4001\",\"V4002\",\"V4003\",\"V4004\",\"V4005\",\"V4006\",\"V4006A\",\"V4007\",\"V4008\",\"V40081\",\"V40082\",\"V40083\",\"V4009\",\"V4010\",\"V4012\",\"V40121\",\"V4013\",\"V40132\",\"V40132A\",\"V4014\",\"V4015\",\"V40151\",\"V401511\",\"V401512\",\"V4016\",\"V40161\",\"V40162\",\"V40163\",\"V4017\",\"V40171\",\"V401711\",\"V4018\",\"V40181\",\"V40182\",\"V40183\",\"V4019\",\"V4020\",\"V4021\",\"V4022\",\"V4024\",\"V4025\",\"V4026\",\"V4027\",\"V4028\",\"V4029\",\"V4032\",\"V4033\",\"V40331\",\"V403312\",\"V40332\",\"V403321\",\"V403322\",\"V40333\",\"V403331\",\"V4034\",\"V40341\",\"V403411\",\"V403412\",\"V40342\",\"V403421\",\"V403422\",\"V4039\",\"V4039C\",\"V4040\",\"V40401\",\"V40402\",\"V40403\",\"V4041\",\"V4043\",\"V40431\",\"V4044\",\"V4045\",\"V4046\",\"V4047\",\"V4048\",\"V4049\",\"V4050\",\"V40501\",\"V405011\",\"V405012\",\"V40502\",\"V405021\",\"V405022\",\"V40503\",\"V405031\",\"V4051\",\"V40511\",\"V405111\",\"V405112\",\"V40512\",\"V405121\",\"V405122\",\"V4056\",\"V4056C\",\"V4057\",\"V4058\",\"V40581\",\"V405811\",\"V405812\",\"V40582\",\"V405821\",\"V405822\",\"V40583\",\"V405831\",\"V40584\",\"V4059\",\"V40591\",\"V405911\",\"V405912\",\"V40592\",\"V405921\",\"V405922\",\"V4062\",\"V4062C\",\"V4063\",\"V4063A\",\"V4064\",\"V4064A\",\"V4071\",\"V4072\",\"V4072A\",\"V4073\",\"V4074\",\"V4074A\",\"V4075A\",\"V4075A1\",\"V4076\",\"V40761\",\"V40762\",\"V40763\",\"V4077\",\"V4078\",\"V4078A\",\"V4082\",\"VD2002\",\"VD2003\",\"VD2004\",\"VD3006\",\"VD4002\",\"VD4003\",\"VD4004\",\"VD4004A\",\"VD4005\",\"VD4007\",\"VD4008\",\"VD4012\",\"VD4014\",\"VD4015\",\"VD4016\",\"VD4017\",\"VD4018\",\"VD4019\",\"VD4020\",\"VD4023\",\"VD4030\",\"VD4031\",\"VD4032\",\"VD4033\",\"Atividade\",\"VD4034\",\"VD4035\",\"VD4036\",\"VD4037\",\n",
    "])\n",
    "novo_df.head()"
   ]
  },
  {
   "cell_type": "code",
   "execution_count": 12,
   "metadata": {},
   "outputs": [],
   "source": [
    "novo_df.to_csv('Pnad_continua1.csv', index=False)"
   ]
  },
  {
   "cell_type": "code",
   "execution_count": 13,
   "metadata": {
    "scrolled": true
   },
   "outputs": [
    {
     "data": {
      "text/html": [
       "<div>\n",
       "<style scoped>\n",
       "    .dataframe tbody tr th:only-of-type {\n",
       "        vertical-align: middle;\n",
       "    }\n",
       "\n",
       "    .dataframe tbody tr th {\n",
       "        vertical-align: top;\n",
       "    }\n",
       "\n",
       "    .dataframe thead th {\n",
       "        text-align: right;\n",
       "    }\n",
       "</style>\n",
       "<table border=\"1\" class=\"dataframe\">\n",
       "  <thead>\n",
       "    <tr style=\"text-align: right;\">\n",
       "      <th></th>\n",
       "      <th>count</th>\n",
       "      <th>unique</th>\n",
       "      <th>top</th>\n",
       "      <th>freq</th>\n",
       "    </tr>\n",
       "  </thead>\n",
       "  <tbody>\n",
       "    <tr>\n",
       "      <td>Ano</td>\n",
       "      <td>528557</td>\n",
       "      <td>3</td>\n",
       "      <td>2018</td>\n",
       "      <td>223078</td>\n",
       "    </tr>\n",
       "    <tr>\n",
       "      <td>Trimestre</td>\n",
       "      <td>528557</td>\n",
       "      <td>4</td>\n",
       "      <td>1</td>\n",
       "      <td>160187</td>\n",
       "    </tr>\n",
       "    <tr>\n",
       "      <td>UF</td>\n",
       "      <td>528557</td>\n",
       "      <td>27</td>\n",
       "      <td>35</td>\n",
       "      <td>41324</td>\n",
       "    </tr>\n",
       "    <tr>\n",
       "      <td>Sexo</td>\n",
       "      <td>528557</td>\n",
       "      <td>2</td>\n",
       "      <td>2</td>\n",
       "      <td>270222</td>\n",
       "    </tr>\n",
       "    <tr>\n",
       "      <td>Idade do morador na data de referência</td>\n",
       "      <td>528557</td>\n",
       "      <td>113</td>\n",
       "      <td>018</td>\n",
       "      <td>8833</td>\n",
       "    </tr>\n",
       "    <tr>\n",
       "      <td>Cor ou raça</td>\n",
       "      <td>479763</td>\n",
       "      <td>6</td>\n",
       "      <td>4</td>\n",
       "      <td>249240</td>\n",
       "    </tr>\n",
       "    <tr>\n",
       "      <td>Faixa de rendimento</td>\n",
       "      <td>212137</td>\n",
       "      <td>8</td>\n",
       "      <td>3</td>\n",
       "      <td>76307</td>\n",
       "    </tr>\n",
       "    <tr>\n",
       "      <td>Nível de instrução</td>\n",
       "      <td>495607</td>\n",
       "      <td>7</td>\n",
       "      <td>2</td>\n",
       "      <td>196053</td>\n",
       "    </tr>\n",
       "    <tr>\n",
       "      <td>Anos de estudo</td>\n",
       "      <td>495607</td>\n",
       "      <td>17</td>\n",
       "      <td>12</td>\n",
       "      <td>108074</td>\n",
       "    </tr>\n",
       "    <tr>\n",
       "      <td>Condição em relação à força de trabalho</td>\n",
       "      <td>428186</td>\n",
       "      <td>2</td>\n",
       "      <td>1</td>\n",
       "      <td>249880</td>\n",
       "    </tr>\n",
       "    <tr>\n",
       "      <td>Tipo de ocupação</td>\n",
       "      <td>221136</td>\n",
       "      <td>10</td>\n",
       "      <td>01</td>\n",
       "      <td>68531</td>\n",
       "    </tr>\n",
       "    <tr>\n",
       "      <td>grupo ocupacional</td>\n",
       "      <td>221136</td>\n",
       "      <td>11</td>\n",
       "      <td>05</td>\n",
       "      <td>48002</td>\n",
       "    </tr>\n",
       "    <tr>\n",
       "      <td>Horas trabalhadas</td>\n",
       "      <td>221136</td>\n",
       "      <td>5</td>\n",
       "      <td>3</td>\n",
       "      <td>111396</td>\n",
       "    </tr>\n",
       "  </tbody>\n",
       "</table>\n",
       "</div>"
      ],
      "text/plain": [
       "                                          count unique   top    freq\n",
       "Ano                                      528557      3  2018  223078\n",
       "Trimestre                                528557      4     1  160187\n",
       "UF                                       528557     27    35   41324\n",
       "Sexo                                     528557      2     2  270222\n",
       "Idade do morador na data de referência   528557    113   018    8833\n",
       "Cor ou raça                              479763      6     4  249240\n",
       "Faixa de rendimento                      212137      8     3   76307\n",
       "Nível de instrução                       495607      7     2  196053\n",
       "Anos de estudo                           495607     17    12  108074\n",
       "Condição em relação à força de trabalho  428186      2     1  249880\n",
       "Tipo de ocupação                         221136     10    01   68531\n",
       "grupo ocupacional                        221136     11    05   48002\n",
       "Horas trabalhadas                        221136      5     3  111396"
      ]
     },
     "execution_count": 13,
     "metadata": {},
     "output_type": "execute_result"
    }
   ],
   "source": [
    "novo_df.describe().T"
   ]
  },
  {
   "cell_type": "code",
   "execution_count": 14,
   "metadata": {
    "scrolled": true
   },
   "outputs": [
    {
     "name": "stdout",
     "output_type": "stream",
     "text": [
      "<class 'pandas.core.frame.DataFrame'>\n",
      "RangeIndex: 528557 entries, 0 to 528556\n",
      "Data columns (total 13 columns):\n",
      "Ano                                        528557 non-null object\n",
      "Trimestre                                  528557 non-null object\n",
      "UF                                         528557 non-null object\n",
      "Sexo                                       528557 non-null object\n",
      "Idade do morador na data de referência     528557 non-null object\n",
      "Cor ou raça                                479763 non-null object\n",
      "Faixa de rendimento                        212137 non-null object\n",
      "Nível de instrução                         495607 non-null object\n",
      "Anos de estudo                             495607 non-null object\n",
      "Condição em relação à força de trabalho    428186 non-null object\n",
      "Tipo de ocupação                           221136 non-null object\n",
      "grupo ocupacional                          221136 non-null object\n",
      "Horas trabalhadas                          221136 non-null object\n",
      "dtypes: object(13)\n",
      "memory usage: 52.4+ MB\n"
     ]
    }
   ],
   "source": [
    "novo_df.info()"
   ]
  },
  {
   "cell_type": "code",
   "execution_count": 15,
   "metadata": {},
   "outputs": [],
   "source": [
    "novo_df['Idade do morador na data de referência'] = novo_df['Idade do morador na data de referência'].astype(int)"
   ]
  },
  {
   "cell_type": "code",
   "execution_count": 16,
   "metadata": {},
   "outputs": [],
   "source": [
    "novo_df = novo_df[novo_df['Idade do morador na data de referência']>=14]\n"
   ]
  },
  {
   "cell_type": "code",
   "execution_count": 17,
   "metadata": {},
   "outputs": [
    {
     "data": {
      "text/html": [
       "<div>\n",
       "<style scoped>\n",
       "    .dataframe tbody tr th:only-of-type {\n",
       "        vertical-align: middle;\n",
       "    }\n",
       "\n",
       "    .dataframe tbody tr th {\n",
       "        vertical-align: top;\n",
       "    }\n",
       "\n",
       "    .dataframe thead th {\n",
       "        text-align: right;\n",
       "    }\n",
       "</style>\n",
       "<table border=\"1\" class=\"dataframe\">\n",
       "  <thead>\n",
       "    <tr style=\"text-align: right;\">\n",
       "      <th></th>\n",
       "      <th>Ano</th>\n",
       "      <th>Trimestre</th>\n",
       "      <th>UF</th>\n",
       "      <th>Sexo</th>\n",
       "      <th>Idade do morador na data de referência</th>\n",
       "      <th>Cor ou raça</th>\n",
       "      <th>Faixa de rendimento</th>\n",
       "      <th>Nível de instrução</th>\n",
       "      <th>Anos de estudo</th>\n",
       "      <th>Condição em relação à força de trabalho</th>\n",
       "      <th>Tipo de ocupação</th>\n",
       "      <th>grupo ocupacional</th>\n",
       "      <th>Horas trabalhadas</th>\n",
       "    </tr>\n",
       "  </thead>\n",
       "  <tbody>\n",
       "    <tr>\n",
       "      <td>0</td>\n",
       "      <td>2018</td>\n",
       "      <td>1</td>\n",
       "      <td>31</td>\n",
       "      <td>1</td>\n",
       "      <td>56</td>\n",
       "      <td>2</td>\n",
       "      <td>NaN</td>\n",
       "      <td>2</td>\n",
       "      <td>05</td>\n",
       "      <td>2</td>\n",
       "      <td>NaN</td>\n",
       "      <td>NaN</td>\n",
       "      <td>NaN</td>\n",
       "    </tr>\n",
       "    <tr>\n",
       "      <td>2</td>\n",
       "      <td>2018</td>\n",
       "      <td>1</td>\n",
       "      <td>25</td>\n",
       "      <td>2</td>\n",
       "      <td>28</td>\n",
       "      <td>4</td>\n",
       "      <td>4</td>\n",
       "      <td>7</td>\n",
       "      <td>16</td>\n",
       "      <td>1</td>\n",
       "      <td>07</td>\n",
       "      <td>02</td>\n",
       "      <td>3</td>\n",
       "    </tr>\n",
       "    <tr>\n",
       "      <td>4</td>\n",
       "      <td>2018</td>\n",
       "      <td>1</td>\n",
       "      <td>41</td>\n",
       "      <td>2</td>\n",
       "      <td>24</td>\n",
       "      <td>1</td>\n",
       "      <td>NaN</td>\n",
       "      <td>7</td>\n",
       "      <td>16</td>\n",
       "      <td>2</td>\n",
       "      <td>NaN</td>\n",
       "      <td>NaN</td>\n",
       "      <td>NaN</td>\n",
       "    </tr>\n",
       "    <tr>\n",
       "      <td>5</td>\n",
       "      <td>2018</td>\n",
       "      <td>1</td>\n",
       "      <td>29</td>\n",
       "      <td>1</td>\n",
       "      <td>33</td>\n",
       "      <td>4</td>\n",
       "      <td>3</td>\n",
       "      <td>5</td>\n",
       "      <td>12</td>\n",
       "      <td>1</td>\n",
       "      <td>07</td>\n",
       "      <td>08</td>\n",
       "      <td>5</td>\n",
       "    </tr>\n",
       "    <tr>\n",
       "      <td>6</td>\n",
       "      <td>2018</td>\n",
       "      <td>1</td>\n",
       "      <td>14</td>\n",
       "      <td>1</td>\n",
       "      <td>71</td>\n",
       "      <td>4</td>\n",
       "      <td>NaN</td>\n",
       "      <td>5</td>\n",
       "      <td>12</td>\n",
       "      <td>2</td>\n",
       "      <td>NaN</td>\n",
       "      <td>NaN</td>\n",
       "      <td>NaN</td>\n",
       "    </tr>\n",
       "  </tbody>\n",
       "</table>\n",
       "</div>"
      ],
      "text/plain": [
       "    Ano Trimestre  UF Sexo  Idade do morador na data de referência  \\\n",
       "0  2018         1  31    1                                      56   \n",
       "2  2018         1  25    2                                      28   \n",
       "4  2018         1  41    2                                      24   \n",
       "5  2018         1  29    1                                      33   \n",
       "6  2018         1  14    1                                      71   \n",
       "\n",
       "  Cor ou raça Faixa de rendimento Nível de instrução Anos de estudo  \\\n",
       "0           2                 NaN                  2             05   \n",
       "2           4                   4                  7             16   \n",
       "4           1                 NaN                  7             16   \n",
       "5           4                   3                  5             12   \n",
       "6           4                 NaN                  5             12   \n",
       "\n",
       "  Condição em relação à força de trabalho Tipo de ocupação grupo ocupacional  \\\n",
       "0                                       2              NaN               NaN   \n",
       "2                                       1               07                02   \n",
       "4                                       2              NaN               NaN   \n",
       "5                                       1               07                08   \n",
       "6                                       2              NaN               NaN   \n",
       "\n",
       "  Horas trabalhadas  \n",
       "0               NaN  \n",
       "2                 3  \n",
       "4               NaN  \n",
       "5                 5  \n",
       "6               NaN  "
      ]
     },
     "execution_count": 17,
     "metadata": {},
     "output_type": "execute_result"
    }
   ],
   "source": [
    "novo_df.head()"
   ]
  },
  {
   "cell_type": "code",
   "execution_count": 18,
   "metadata": {},
   "outputs": [
    {
     "data": {
      "text/plain": [
       "array([nan, '4', '3', '1', '2', '6', '5', '7', '8'], dtype=object)"
      ]
     },
     "execution_count": 18,
     "metadata": {},
     "output_type": "execute_result"
    }
   ],
   "source": [
    "novo_df['Faixa de rendimento'].unique()"
   ]
  },
  {
   "cell_type": "code",
   "execution_count": 19,
   "metadata": {},
   "outputs": [
    {
     "data": {
      "text/plain": [
       "True     216049\n",
       "False    212137\n",
       "Name: Faixa de rendimento, dtype: int64"
      ]
     },
     "execution_count": 19,
     "metadata": {},
     "output_type": "execute_result"
    }
   ],
   "source": [
    "novo_df['Faixa de rendimento'].isna().value_counts()"
   ]
  },
  {
   "cell_type": "code",
   "execution_count": 20,
   "metadata": {},
   "outputs": [],
   "source": [
    "df_semnan = novo_df.dropna()"
   ]
  },
  {
   "cell_type": "code",
   "execution_count": 21,
   "metadata": {},
   "outputs": [
    {
     "data": {
      "text/plain": [
       "192456"
      ]
     },
     "execution_count": 21,
     "metadata": {},
     "output_type": "execute_result"
    }
   ],
   "source": [
    "len(df_semnan)"
   ]
  },
  {
   "cell_type": "code",
   "execution_count": 22,
   "metadata": {
    "scrolled": true
   },
   "outputs": [],
   "source": [
    "df_semnan.to_csv('Pnad_continua3.csv', index=False)"
   ]
  },
  {
   "cell_type": "code",
   "execution_count": 23,
   "metadata": {},
   "outputs": [
    {
     "data": {
      "text/html": [
       "<div>\n",
       "<style scoped>\n",
       "    .dataframe tbody tr th:only-of-type {\n",
       "        vertical-align: middle;\n",
       "    }\n",
       "\n",
       "    .dataframe tbody tr th {\n",
       "        vertical-align: top;\n",
       "    }\n",
       "\n",
       "    .dataframe thead th {\n",
       "        text-align: right;\n",
       "    }\n",
       "</style>\n",
       "<table border=\"1\" class=\"dataframe\">\n",
       "  <thead>\n",
       "    <tr style=\"text-align: right;\">\n",
       "      <th></th>\n",
       "      <th>Ano</th>\n",
       "      <th>Trimestre</th>\n",
       "      <th>UF</th>\n",
       "      <th>Sexo</th>\n",
       "      <th>Idade do morador na data de referência</th>\n",
       "      <th>Cor ou raça</th>\n",
       "      <th>Faixa de rendimento</th>\n",
       "      <th>Nível de instrução</th>\n",
       "      <th>Anos de estudo</th>\n",
       "      <th>Condição em relação à força de trabalho</th>\n",
       "      <th>Tipo de ocupação</th>\n",
       "      <th>grupo ocupacional</th>\n",
       "      <th>Horas trabalhadas</th>\n",
       "    </tr>\n",
       "  </thead>\n",
       "  <tbody>\n",
       "    <tr>\n",
       "      <td>2</td>\n",
       "      <td>2018</td>\n",
       "      <td>1</td>\n",
       "      <td>25</td>\n",
       "      <td>2</td>\n",
       "      <td>28</td>\n",
       "      <td>4</td>\n",
       "      <td>4</td>\n",
       "      <td>7</td>\n",
       "      <td>16</td>\n",
       "      <td>1</td>\n",
       "      <td>07</td>\n",
       "      <td>02</td>\n",
       "      <td>3</td>\n",
       "    </tr>\n",
       "    <tr>\n",
       "      <td>5</td>\n",
       "      <td>2018</td>\n",
       "      <td>1</td>\n",
       "      <td>29</td>\n",
       "      <td>1</td>\n",
       "      <td>33</td>\n",
       "      <td>4</td>\n",
       "      <td>3</td>\n",
       "      <td>5</td>\n",
       "      <td>12</td>\n",
       "      <td>1</td>\n",
       "      <td>07</td>\n",
       "      <td>08</td>\n",
       "      <td>5</td>\n",
       "    </tr>\n",
       "    <tr>\n",
       "      <td>7</td>\n",
       "      <td>2018</td>\n",
       "      <td>1</td>\n",
       "      <td>35</td>\n",
       "      <td>1</td>\n",
       "      <td>26</td>\n",
       "      <td>2</td>\n",
       "      <td>3</td>\n",
       "      <td>5</td>\n",
       "      <td>12</td>\n",
       "      <td>1</td>\n",
       "      <td>09</td>\n",
       "      <td>05</td>\n",
       "      <td>2</td>\n",
       "    </tr>\n",
       "    <tr>\n",
       "      <td>11</td>\n",
       "      <td>2018</td>\n",
       "      <td>1</td>\n",
       "      <td>43</td>\n",
       "      <td>2</td>\n",
       "      <td>18</td>\n",
       "      <td>2</td>\n",
       "      <td>3</td>\n",
       "      <td>5</td>\n",
       "      <td>12</td>\n",
       "      <td>1</td>\n",
       "      <td>01</td>\n",
       "      <td>04</td>\n",
       "      <td>3</td>\n",
       "    </tr>\n",
       "    <tr>\n",
       "      <td>13</td>\n",
       "      <td>2018</td>\n",
       "      <td>1</td>\n",
       "      <td>42</td>\n",
       "      <td>2</td>\n",
       "      <td>18</td>\n",
       "      <td>2</td>\n",
       "      <td>1</td>\n",
       "      <td>6</td>\n",
       "      <td>13</td>\n",
       "      <td>1</td>\n",
       "      <td>06</td>\n",
       "      <td>02</td>\n",
       "      <td>2</td>\n",
       "    </tr>\n",
       "  </tbody>\n",
       "</table>\n",
       "</div>"
      ],
      "text/plain": [
       "     Ano Trimestre  UF Sexo  Idade do morador na data de referência  \\\n",
       "2   2018         1  25    2                                      28   \n",
       "5   2018         1  29    1                                      33   \n",
       "7   2018         1  35    1                                      26   \n",
       "11  2018         1  43    2                                      18   \n",
       "13  2018         1  42    2                                      18   \n",
       "\n",
       "   Cor ou raça Faixa de rendimento Nível de instrução Anos de estudo  \\\n",
       "2            4                   4                  7             16   \n",
       "5            4                   3                  5             12   \n",
       "7            2                   3                  5             12   \n",
       "11           2                   3                  5             12   \n",
       "13           2                   1                  6             13   \n",
       "\n",
       "   Condição em relação à força de trabalho Tipo de ocupação grupo ocupacional  \\\n",
       "2                                        1               07                02   \n",
       "5                                        1               07                08   \n",
       "7                                        1               09                05   \n",
       "11                                       1               01                04   \n",
       "13                                       1               06                02   \n",
       "\n",
       "   Horas trabalhadas  \n",
       "2                  3  \n",
       "5                  5  \n",
       "7                  2  \n",
       "11                 3  \n",
       "13                 2  "
      ]
     },
     "execution_count": 23,
     "metadata": {},
     "output_type": "execute_result"
    }
   ],
   "source": [
    "df_semnan.head()"
   ]
  },
  {
   "cell_type": "code",
   "execution_count": 24,
   "metadata": {},
   "outputs": [
    {
     "name": "stdout",
     "output_type": "stream",
     "text": [
      "<class 'pandas.core.frame.DataFrame'>\n",
      "Int64Index: 192456 entries, 2 to 528556\n",
      "Data columns (total 13 columns):\n",
      "Ano                                        192456 non-null object\n",
      "Trimestre                                  192456 non-null object\n",
      "UF                                         192456 non-null object\n",
      "Sexo                                       192456 non-null object\n",
      "Idade do morador na data de referência     192456 non-null int32\n",
      "Cor ou raça                                192456 non-null object\n",
      "Faixa de rendimento                        192456 non-null object\n",
      "Nível de instrução                         192456 non-null object\n",
      "Anos de estudo                             192456 non-null object\n",
      "Condição em relação à força de trabalho    192456 non-null object\n",
      "Tipo de ocupação                           192456 non-null object\n",
      "grupo ocupacional                          192456 non-null object\n",
      "Horas trabalhadas                          192456 non-null object\n",
      "dtypes: int32(1), object(12)\n",
      "memory usage: 19.8+ MB\n"
     ]
    }
   ],
   "source": [
    "df_semnan.info()"
   ]
  },
  {
   "cell_type": "code",
   "execution_count": 25,
   "metadata": {},
   "outputs": [],
   "source": [
    "#df_semnan.to_csv('Pnad_continua3.csv', index=False)"
   ]
  },
  {
   "cell_type": "code",
   "execution_count": null,
   "metadata": {},
   "outputs": [],
   "source": []
  },
  {
   "cell_type": "code",
   "execution_count": null,
   "metadata": {},
   "outputs": [],
   "source": []
  },
  {
   "cell_type": "code",
   "execution_count": 26,
   "metadata": {},
   "outputs": [
    {
     "name": "stderr",
     "output_type": "stream",
     "text": [
      "C:\\Users\\jcuri\\Documents\\anaconda\\lib\\site-packages\\pandas\\core\\frame.py:3494: SettingWithCopyWarning: \n",
      "A value is trying to be set on a copy of a slice from a DataFrame.\n",
      "Try using .loc[row_indexer,col_indexer] = value instead\n",
      "\n",
      "See the caveats in the documentation: http://pandas.pydata.org/pandas-docs/stable/user_guide/indexing.html#returning-a-view-versus-a-copy\n",
      "  self[k1] = value[k2]\n"
     ]
    }
   ],
   "source": [
    "df_semnan[['UF', 'Sexo','Cor ou raça','Faixa de rendimento', 'Nível de instrução','Condição em relação à força de trabalho', 'Tipo de ocupação']] = df_semnan[['UF', 'Sexo','Cor ou raça','Faixa de rendimento', 'Nível de instrução','Condição em relação à força de trabalho', 'Tipo de ocupação']].astype(int)"
   ]
  },
  {
   "cell_type": "code",
   "execution_count": 27,
   "metadata": {},
   "outputs": [
    {
     "data": {
      "text/plain": [
       "<matplotlib.axes._subplots.AxesSubplot at 0x188ad5be988>"
      ]
     },
     "execution_count": 27,
     "metadata": {},
     "output_type": "execute_result"
    },
    {
     "data": {
      "image/png": "[encoded data removed]",
      "text/plain": [
       "<Figure size 432x288 with 1 Axes>"
      ]
     },
     "metadata": {
      "needs_background": "light"
     },
     "output_type": "display_data"
    }
   ],
   "source": [
    "df_semnan['Faixa de rendimento'].value_counts().plot(kind= 'bar')"
   ]
  },
  {
   "cell_type": "code",
   "execution_count": 28,
   "metadata": {},
   "outputs": [],
   "source": [
    "#set(df_semnan['UF'].unique())-set(Dict_UF.keys())"
   ]
  },
  {
   "cell_type": "code",
   "execution_count": 29,
   "metadata": {},
   "outputs": [
    {
     "data": {
      "text/plain": [
       "dtype('int32')"
      ]
     },
     "execution_count": 29,
     "metadata": {},
     "output_type": "execute_result"
    }
   ],
   "source": [
    "df_semnan['UF'].dtype"
   ]
  },
  {
   "cell_type": "code",
   "execution_count": 30,
   "metadata": {},
   "outputs": [],
   "source": [
    "#Dicionário de UF\n",
    "Dict_UF = {\n",
    "    11 : 'Rondônia',\n",
    "    12 : 'Acre',\n",
    "    13 : 'Amazonas',\n",
    "    14 : 'Roraima',\n",
    "    15 : 'Pará',\n",
    "    16 : 'Amapá',\n",
    "    17 : 'Tocantins',\n",
    "    21 : 'Maranhão',\n",
    "    22 : 'Piauí',\n",
    "    23 : 'Ceará',\n",
    "    24 : 'Rio Grande do Norte',\n",
    "    25 : 'Paraíba',\n",
    "    26 : 'Pernambuco',\n",
    "    27 : 'Alagoas',\n",
    "    28 : 'Sergipe',\n",
    "    29 : 'Bahia',\n",
    "    31 : 'Minas Gerais',\n",
    "    32 : 'Espírito Santo',\n",
    "    33 : 'Rio de Janeiro',\n",
    "    35 : 'São Paulo',\n",
    "    41 : 'Paraná',\n",
    "    42 : 'Santa Catarina',\n",
    "    43 : 'Rio Grande do Sul',\n",
    "    50 : 'Mato Grosso do Sul',\n",
    "    51 : 'Mato Grosso',\n",
    "    52 : 'Goiás',\n",
    "    53 : 'Distrito Federal'\n",
    "}"
   ]
  },
  {
   "cell_type": "code",
   "execution_count": 31,
   "metadata": {},
   "outputs": [
    {
     "name": "stderr",
     "output_type": "stream",
     "text": [
      "C:\\Users\\jcuri\\Documents\\anaconda\\lib\\site-packages\\ipykernel_launcher.py:1: SettingWithCopyWarning: \n",
      "A value is trying to be set on a copy of a slice from a DataFrame.\n",
      "Try using .loc[row_indexer,col_indexer] = value instead\n",
      "\n",
      "See the caveats in the documentation: http://pandas.pydata.org/pandas-docs/stable/user_guide/indexing.html#returning-a-view-versus-a-copy\n",
      "  \"\"\"Entry point for launching an IPython kernel.\n"
     ]
    }
   ],
   "source": [
    "df_semnan[\"UF\"] = df_semnan[\"UF\"].map(Dict_UF)"
   ]
  },
  {
   "cell_type": "code",
   "execution_count": 32,
   "metadata": {},
   "outputs": [
    {
     "data": {
      "text/plain": [
       "array(['Paraíba', 'Bahia', 'São Paulo', 'Rio Grande do Sul',\n",
       "       'Santa Catarina', 'Tocantins', 'Rio de Janeiro', 'Pará', 'Paraná',\n",
       "       'Distrito Federal', 'Rio Grande do Norte', 'Mato Grosso', 'Goiás',\n",
       "       'Alagoas', 'Amazonas', 'Maranhão', 'Ceará', 'Acre', 'Minas Gerais',\n",
       "       'Rondônia', 'Pernambuco', 'Mato Grosso do Sul', 'Piauí',\n",
       "       'Espírito Santo', 'Roraima', 'Sergipe', 'Amapá'], dtype=object)"
      ]
     },
     "execution_count": 32,
     "metadata": {},
     "output_type": "execute_result"
    }
   ],
   "source": [
    "df_semnan[\"UF\"].unique()"
   ]
  },
  {
   "cell_type": "code",
   "execution_count": 33,
   "metadata": {},
   "outputs": [],
   "source": [
    "#dicionário de cor\n",
    "Dict_Cor = {\n",
    "    1 : 'Branca',\n",
    "    2 : 'Preta',\n",
    "    3 : 'Amarela',\n",
    "    4 : 'Parda',\n",
    "    5 : 'indígena',\n",
    "    9 : 'Ignorado'\n",
    "    }"
   ]
  },
  {
   "cell_type": "code",
   "execution_count": 34,
   "metadata": {},
   "outputs": [
    {
     "name": "stderr",
     "output_type": "stream",
     "text": [
      "C:\\Users\\jcuri\\Documents\\anaconda\\lib\\site-packages\\ipykernel_launcher.py:1: SettingWithCopyWarning: \n",
      "A value is trying to be set on a copy of a slice from a DataFrame.\n",
      "Try using .loc[row_indexer,col_indexer] = value instead\n",
      "\n",
      "See the caveats in the documentation: http://pandas.pydata.org/pandas-docs/stable/user_guide/indexing.html#returning-a-view-versus-a-copy\n",
      "  \"\"\"Entry point for launching an IPython kernel.\n"
     ]
    }
   ],
   "source": [
    "df_semnan[\"Cor ou raça\"] = df_semnan[\"Cor ou raça\"].map(Dict_Cor)"
   ]
  },
  {
   "cell_type": "code",
   "execution_count": 35,
   "metadata": {},
   "outputs": [],
   "source": [
    "#dicionário de sexo\n",
    "Dict_Sexo = {\n",
    "    1 : 'Homem',\n",
    "    2 : 'Mulher'\n",
    "}"
   ]
  },
  {
   "cell_type": "code",
   "execution_count": 36,
   "metadata": {},
   "outputs": [
    {
     "name": "stderr",
     "output_type": "stream",
     "text": [
      "C:\\Users\\jcuri\\Documents\\anaconda\\lib\\site-packages\\ipykernel_launcher.py:1: SettingWithCopyWarning: \n",
      "A value is trying to be set on a copy of a slice from a DataFrame.\n",
      "Try using .loc[row_indexer,col_indexer] = value instead\n",
      "\n",
      "See the caveats in the documentation: http://pandas.pydata.org/pandas-docs/stable/user_guide/indexing.html#returning-a-view-versus-a-copy\n",
      "  \"\"\"Entry point for launching an IPython kernel.\n"
     ]
    }
   ],
   "source": [
    "df_semnan[\"Sexo\"] = df_semnan[\"Sexo\"].map(Dict_Sexo)"
   ]
  },
  {
   "cell_type": "code",
   "execution_count": 37,
   "metadata": {},
   "outputs": [],
   "source": [
    "#dicionário de faixa de rendimento\n",
    "Dict_Rend = {\n",
    "    0 : 'zero',\n",
    "    1 : 'zero a meio salário mínimo',\n",
    "    2 : 'meio a um salário mínimo',\n",
    "    3 : 'um a dois salários mínimos',\n",
    "    4 : 'dois a três salários mínimos ',\n",
    "    5 : 'três a cinco salários mínimos',\n",
    "    6 : 'cinco a dez salários mínimos',\n",
    "    7 : 'dez a vinte salários mínimos',\n",
    "    8 : 'vinte ou mais',\n",
    "    }"
   ]
  },
  {
   "cell_type": "code",
   "execution_count": 38,
   "metadata": {},
   "outputs": [
    {
     "name": "stderr",
     "output_type": "stream",
     "text": [
      "C:\\Users\\jcuri\\Documents\\anaconda\\lib\\site-packages\\ipykernel_launcher.py:1: SettingWithCopyWarning: \n",
      "A value is trying to be set on a copy of a slice from a DataFrame.\n",
      "Try using .loc[row_indexer,col_indexer] = value instead\n",
      "\n",
      "See the caveats in the documentation: http://pandas.pydata.org/pandas-docs/stable/user_guide/indexing.html#returning-a-view-versus-a-copy\n",
      "  \"\"\"Entry point for launching an IPython kernel.\n"
     ]
    }
   ],
   "source": [
    "df_semnan[\"Faixa de rendimento\"] = df_semnan[\"Faixa de rendimento\"].map(Dict_Rend)"
   ]
  },
  {
   "cell_type": "code",
   "execution_count": 39,
   "metadata": {},
   "outputs": [],
   "source": [
    "#dicionário de força de trabalho\n",
    "Dict_ftrab = {\n",
    "    1 : 'trabalha',\n",
    "    2 : 'Não trabalha'\n",
    "}"
   ]
  },
  {
   "cell_type": "code",
   "execution_count": 40,
   "metadata": {},
   "outputs": [
    {
     "name": "stderr",
     "output_type": "stream",
     "text": [
      "C:\\Users\\jcuri\\Documents\\anaconda\\lib\\site-packages\\ipykernel_launcher.py:1: SettingWithCopyWarning: \n",
      "A value is trying to be set on a copy of a slice from a DataFrame.\n",
      "Try using .loc[row_indexer,col_indexer] = value instead\n",
      "\n",
      "See the caveats in the documentation: http://pandas.pydata.org/pandas-docs/stable/user_guide/indexing.html#returning-a-view-versus-a-copy\n",
      "  \"\"\"Entry point for launching an IPython kernel.\n"
     ]
    }
   ],
   "source": [
    "df_semnan[\"Condição em relação à força de trabalho\"] = df_semnan[\"Condição em relação à força de trabalho\"].map(Dict_ftrab)"
   ]
  },
  {
   "cell_type": "code",
   "execution_count": 41,
   "metadata": {},
   "outputs": [],
   "source": [
    "#dicionário de tipo de trabalho\n",
    "Dict_tipoT = {\n",
    "    1 : 'empregado setor privado CLT',\n",
    "    2 : 'empregado setor privado sem CLT',\n",
    "    3 : 'Trabalhador domestico CLT',\n",
    "    4 : 'Trabalhador domestico sem CLT ',\n",
    "    5 : 'empregado setor público CLT',\n",
    "    6 : 'empregado setor público sem CLT',\n",
    "    7 : 'Militar e serviço estatutário ',\n",
    "    8 : 'Empregador',\n",
    "    9 : 'Conta própria',\n",
    "    10: 'Trabalhador Auxiliar familiar'\n",
    "}"
   ]
  },
  {
   "cell_type": "code",
   "execution_count": 42,
   "metadata": {},
   "outputs": [
    {
     "name": "stderr",
     "output_type": "stream",
     "text": [
      "C:\\Users\\jcuri\\Documents\\anaconda\\lib\\site-packages\\ipykernel_launcher.py:1: SettingWithCopyWarning: \n",
      "A value is trying to be set on a copy of a slice from a DataFrame.\n",
      "Try using .loc[row_indexer,col_indexer] = value instead\n",
      "\n",
      "See the caveats in the documentation: http://pandas.pydata.org/pandas-docs/stable/user_guide/indexing.html#returning-a-view-versus-a-copy\n",
      "  \"\"\"Entry point for launching an IPython kernel.\n"
     ]
    }
   ],
   "source": [
    "df_semnan[\"Tipo de ocupação\"] = df_semnan[\"Tipo de ocupação\"].map(Dict_tipoT)"
   ]
  },
  {
   "cell_type": "code",
   "execution_count": 43,
   "metadata": {},
   "outputs": [],
   "source": [
    "Dict_instrução = {\n",
    "    1 : 'sem instrução ou menos de um ano de estudo',\n",
    "    2 : 'fundamental incompleto ou equivalente',\n",
    "    3 : 'fundamental completo ou equivalente',\n",
    "    4 : 'ensino médio incompleto ou equivalente ',\n",
    "    5 : 'ensino médio completo ou equivalente',\n",
    "    6 : 'Superior incompleto ou equivalente',\n",
    "    7 : 'Superior completo ou equivalente'\n",
    "       }"
   ]
  },
  {
   "cell_type": "code",
   "execution_count": 44,
   "metadata": {},
   "outputs": [
    {
     "name": "stderr",
     "output_type": "stream",
     "text": [
      "C:\\Users\\jcuri\\Documents\\anaconda\\lib\\site-packages\\ipykernel_launcher.py:1: SettingWithCopyWarning: \n",
      "A value is trying to be set on a copy of a slice from a DataFrame.\n",
      "Try using .loc[row_indexer,col_indexer] = value instead\n",
      "\n",
      "See the caveats in the documentation: http://pandas.pydata.org/pandas-docs/stable/user_guide/indexing.html#returning-a-view-versus-a-copy\n",
      "  \"\"\"Entry point for launching an IPython kernel.\n"
     ]
    }
   ],
   "source": [
    "df_semnan[\"Nível de instrução\"] = df_semnan[\"Nível de instrução\"].map(Dict_instrução)"
   ]
  },
  {
   "cell_type": "code",
   "execution_count": 45,
   "metadata": {},
   "outputs": [
    {
     "data": {
      "text/plain": [
       "dtype('O')"
      ]
     },
     "execution_count": 45,
     "metadata": {},
     "output_type": "execute_result"
    }
   ],
   "source": [
    "df_semnan['grupo ocupacional'].dtype"
   ]
  },
  {
   "cell_type": "code",
   "execution_count": 46,
   "metadata": {},
   "outputs": [
    {
     "name": "stderr",
     "output_type": "stream",
     "text": [
      "C:\\Users\\jcuri\\Documents\\anaconda\\lib\\site-packages\\ipykernel_launcher.py:1: SettingWithCopyWarning: \n",
      "A value is trying to be set on a copy of a slice from a DataFrame.\n",
      "Try using .loc[row_indexer,col_indexer] = value instead\n",
      "\n",
      "See the caveats in the documentation: http://pandas.pydata.org/pandas-docs/stable/user_guide/indexing.html#returning-a-view-versus-a-copy\n",
      "  \"\"\"Entry point for launching an IPython kernel.\n"
     ]
    }
   ],
   "source": [
    "df_semnan['grupo ocupacional'] = df_semnan['grupo ocupacional'].astype(int)"
   ]
  },
  {
   "cell_type": "code",
   "execution_count": 47,
   "metadata": {},
   "outputs": [
    {
     "data": {
      "text/plain": [
       "dtype('int32')"
      ]
     },
     "execution_count": 47,
     "metadata": {},
     "output_type": "execute_result"
    }
   ],
   "source": [
    "df_semnan['grupo ocupacional'].dtype"
   ]
  },
  {
   "cell_type": "code",
   "execution_count": 48,
   "metadata": {},
   "outputs": [],
   "source": [
    "Dict_ocupa = {\n",
    "    1 : 'Diretores e gerentes',\n",
    "    2 : 'Proficionais das ciências e intelectuais',\n",
    "    3 : 'Técnicos e profissionais nível médio',\n",
    "    4 : 'Trabalhadores de apoio administrativo',\n",
    "    5 : 'Trabalhadores de serviços,vendedores dos comércios e supermercados',\n",
    "    6 : 'Trabalhadores qualificados da agropecuária, florestais, da caça e da pesca',\n",
    "    7 : 'Trabalhadores qualificados, operários e artesões da construção, das artes mecânicas e outros ofícios',\n",
    "    8 : 'Operadores de instalações e máquinas e montadores',\n",
    "    9 : 'Ocupações elementares',\n",
    "    10 : 'Membros das forças armadas, policiais e bombeiros militares',\n",
    "    11 : 'Ocupações maldefinidas ',\n",
    "        \n",
    "       }"
   ]
  },
  {
   "cell_type": "code",
   "execution_count": 49,
   "metadata": {},
   "outputs": [
    {
     "name": "stderr",
     "output_type": "stream",
     "text": [
      "C:\\Users\\jcuri\\Documents\\anaconda\\lib\\site-packages\\ipykernel_launcher.py:1: SettingWithCopyWarning: \n",
      "A value is trying to be set on a copy of a slice from a DataFrame.\n",
      "Try using .loc[row_indexer,col_indexer] = value instead\n",
      "\n",
      "See the caveats in the documentation: http://pandas.pydata.org/pandas-docs/stable/user_guide/indexing.html#returning-a-view-versus-a-copy\n",
      "  \"\"\"Entry point for launching an IPython kernel.\n"
     ]
    }
   ],
   "source": [
    "df_semnan[\"grupo ocupacional\"] = df_semnan[\"grupo ocupacional\"].map(Dict_ocupa)"
   ]
  },
  {
   "cell_type": "code",
   "execution_count": 50,
   "metadata": {},
   "outputs": [
    {
     "data": {
      "text/html": [
       "<div>\n",
       "<style scoped>\n",
       "    .dataframe tbody tr th:only-of-type {\n",
       "        vertical-align: middle;\n",
       "    }\n",
       "\n",
       "    .dataframe tbody tr th {\n",
       "        vertical-align: top;\n",
       "    }\n",
       "\n",
       "    .dataframe thead th {\n",
       "        text-align: right;\n",
       "    }\n",
       "</style>\n",
       "<table border=\"1\" class=\"dataframe\">\n",
       "  <thead>\n",
       "    <tr style=\"text-align: right;\">\n",
       "      <th></th>\n",
       "      <th>Ano</th>\n",
       "      <th>Trimestre</th>\n",
       "      <th>UF</th>\n",
       "      <th>Sexo</th>\n",
       "      <th>Idade do morador na data de referência</th>\n",
       "      <th>Cor ou raça</th>\n",
       "      <th>Faixa de rendimento</th>\n",
       "      <th>Nível de instrução</th>\n",
       "      <th>Anos de estudo</th>\n",
       "      <th>Condição em relação à força de trabalho</th>\n",
       "      <th>Tipo de ocupação</th>\n",
       "      <th>grupo ocupacional</th>\n",
       "      <th>Horas trabalhadas</th>\n",
       "    </tr>\n",
       "  </thead>\n",
       "  <tbody>\n",
       "    <tr>\n",
       "      <td>2</td>\n",
       "      <td>2018</td>\n",
       "      <td>1</td>\n",
       "      <td>Paraíba</td>\n",
       "      <td>Mulher</td>\n",
       "      <td>28</td>\n",
       "      <td>Parda</td>\n",
       "      <td>dois a três salários mínimos</td>\n",
       "      <td>Superior completo ou equivalente</td>\n",
       "      <td>16</td>\n",
       "      <td>trabalha</td>\n",
       "      <td>Militar e serviço estatutário</td>\n",
       "      <td>Proficionais das ciências e intelectuais</td>\n",
       "      <td>3</td>\n",
       "    </tr>\n",
       "    <tr>\n",
       "      <td>5</td>\n",
       "      <td>2018</td>\n",
       "      <td>1</td>\n",
       "      <td>Bahia</td>\n",
       "      <td>Homem</td>\n",
       "      <td>33</td>\n",
       "      <td>Parda</td>\n",
       "      <td>um a dois salários mínimos</td>\n",
       "      <td>ensino médio completo ou equivalente</td>\n",
       "      <td>12</td>\n",
       "      <td>trabalha</td>\n",
       "      <td>Militar e serviço estatutário</td>\n",
       "      <td>Operadores de instalações e máquinas e montadores</td>\n",
       "      <td>5</td>\n",
       "    </tr>\n",
       "    <tr>\n",
       "      <td>7</td>\n",
       "      <td>2018</td>\n",
       "      <td>1</td>\n",
       "      <td>São Paulo</td>\n",
       "      <td>Homem</td>\n",
       "      <td>26</td>\n",
       "      <td>Preta</td>\n",
       "      <td>um a dois salários mínimos</td>\n",
       "      <td>ensino médio completo ou equivalente</td>\n",
       "      <td>12</td>\n",
       "      <td>trabalha</td>\n",
       "      <td>Conta própria</td>\n",
       "      <td>Trabalhadores de serviços,vendedores dos comér...</td>\n",
       "      <td>2</td>\n",
       "    </tr>\n",
       "    <tr>\n",
       "      <td>11</td>\n",
       "      <td>2018</td>\n",
       "      <td>1</td>\n",
       "      <td>Rio Grande do Sul</td>\n",
       "      <td>Mulher</td>\n",
       "      <td>18</td>\n",
       "      <td>Preta</td>\n",
       "      <td>um a dois salários mínimos</td>\n",
       "      <td>ensino médio completo ou equivalente</td>\n",
       "      <td>12</td>\n",
       "      <td>trabalha</td>\n",
       "      <td>empregado setor privado CLT</td>\n",
       "      <td>Trabalhadores de apoio administrativo</td>\n",
       "      <td>3</td>\n",
       "    </tr>\n",
       "    <tr>\n",
       "      <td>13</td>\n",
       "      <td>2018</td>\n",
       "      <td>1</td>\n",
       "      <td>Santa Catarina</td>\n",
       "      <td>Mulher</td>\n",
       "      <td>18</td>\n",
       "      <td>Preta</td>\n",
       "      <td>zero a meio salário mínimo</td>\n",
       "      <td>Superior incompleto ou equivalente</td>\n",
       "      <td>13</td>\n",
       "      <td>trabalha</td>\n",
       "      <td>empregado setor público sem CLT</td>\n",
       "      <td>Proficionais das ciências e intelectuais</td>\n",
       "      <td>2</td>\n",
       "    </tr>\n",
       "  </tbody>\n",
       "</table>\n",
       "</div>"
      ],
      "text/plain": [
       "     Ano Trimestre                 UF    Sexo  \\\n",
       "2   2018         1            Paraíba  Mulher   \n",
       "5   2018         1              Bahia   Homem   \n",
       "7   2018         1          São Paulo   Homem   \n",
       "11  2018         1  Rio Grande do Sul  Mulher   \n",
       "13  2018         1     Santa Catarina  Mulher   \n",
       "\n",
       "    Idade do morador na data de referência Cor ou raça  \\\n",
       "2                                       28       Parda   \n",
       "5                                       33       Parda   \n",
       "7                                       26       Preta   \n",
       "11                                      18       Preta   \n",
       "13                                      18       Preta   \n",
       "\n",
       "              Faixa de rendimento                    Nível de instrução  \\\n",
       "2   dois a três salários mínimos       Superior completo ou equivalente   \n",
       "5      um a dois salários mínimos  ensino médio completo ou equivalente   \n",
       "7      um a dois salários mínimos  ensino médio completo ou equivalente   \n",
       "11     um a dois salários mínimos  ensino médio completo ou equivalente   \n",
       "13     zero a meio salário mínimo    Superior incompleto ou equivalente   \n",
       "\n",
       "   Anos de estudo Condição em relação à força de trabalho  \\\n",
       "2              16                                trabalha   \n",
       "5              12                                trabalha   \n",
       "7              12                                trabalha   \n",
       "11             12                                trabalha   \n",
       "13             13                                trabalha   \n",
       "\n",
       "                   Tipo de ocupação  \\\n",
       "2    Militar e serviço estatutário    \n",
       "5    Militar e serviço estatutário    \n",
       "7                     Conta própria   \n",
       "11      empregado setor privado CLT   \n",
       "13  empregado setor público sem CLT   \n",
       "\n",
       "                                    grupo ocupacional Horas trabalhadas  \n",
       "2            Proficionais das ciências e intelectuais                 3  \n",
       "5   Operadores de instalações e máquinas e montadores                 5  \n",
       "7   Trabalhadores de serviços,vendedores dos comér...                 2  \n",
       "11              Trabalhadores de apoio administrativo                 3  \n",
       "13           Proficionais das ciências e intelectuais                 2  "
      ]
     },
     "execution_count": 50,
     "metadata": {},
     "output_type": "execute_result"
    }
   ],
   "source": [
    "df_semnan.head()"
   ]
  },
  {
   "cell_type": "code",
   "execution_count": 51,
   "metadata": {},
   "outputs": [
    {
     "data": {
      "text/plain": [
       "Parda       92368\n",
       "Branca      80547\n",
       "Preta       17658\n",
       "Amarela      1048\n",
       "indígena      827\n",
       "Ignorado        8\n",
       "Name: Cor ou raça, dtype: int64"
      ]
     },
     "execution_count": 51,
     "metadata": {},
     "output_type": "execute_result"
    }
   ],
   "source": [
    "df_semnan['Cor ou raça'].value_counts()"
   ]
  },
  {
   "cell_type": "markdown",
   "metadata": {},
   "source": [
    "Analise exploratória"
   ]
  },
  {
   "cell_type": "code",
   "execution_count": 52,
   "metadata": {},
   "outputs": [
    {
     "data": {
      "image/png": "[encoded data removed]",
      "text/plain": [
       "<Figure size 432x288 with 1 Axes>"
      ]
     },
     "metadata": {
      "needs_background": "light"
     },
     "output_type": "display_data"
    }
   ],
   "source": [
    "df_semnan['UF'].value_counts().plot(kind='bar');\n",
    "plt.title(\"UF\");"
   ]
  },
  {
   "cell_type": "code",
   "execution_count": 53,
   "metadata": {},
   "outputs": [
    {
     "data": {
      "text/plain": [
       "Homem     112688\n",
       "Mulher     79768\n",
       "Name: Sexo, dtype: int64"
      ]
     },
     "execution_count": 53,
     "metadata": {},
     "output_type": "execute_result"
    }
   ],
   "source": [
    "df_semnan[\"Sexo\"].value_counts()"
   ]
  },
  {
   "cell_type": "code",
   "execution_count": 54,
   "metadata": {},
   "outputs": [
    {
     "data": {
      "image/png": "[encoded data removed]",
      "text/plain": [
       "<Figure size 432x288 with 1 Axes>"
      ]
     },
     "metadata": {
      "needs_background": "light"
     },
     "output_type": "display_data"
    }
   ],
   "source": [
    "df_semnan[\"Sexo\"].value_counts().plot(kind='bar');\n",
    "plt.title(\"Sexo\");"
   ]
  },
  {
   "cell_type": "code",
   "execution_count": 55,
   "metadata": {},
   "outputs": [
    {
     "data": {
      "image/png": "[encoded data removed]",
      "text/plain": [
       "<Figure size 432x288 with 1 Axes>"
      ]
     },
     "metadata": {
      "needs_background": "light"
     },
     "output_type": "display_data"
    }
   ],
   "source": [
    "plt.title(\"Numero de observações por Idade\")\n",
    "df_semnan[\"Idade do morador na data de referência\"].plot(kind = 'hist');"
   ]
  },
  {
   "cell_type": "code",
   "execution_count": 56,
   "metadata": {},
   "outputs": [
    {
     "data": {
      "text/plain": [
       "<matplotlib.axes._subplots.AxesSubplot at 0x188adc17148>"
      ]
     },
     "execution_count": 56,
     "metadata": {},
     "output_type": "execute_result"
    },
    {
     "data": {
      "image/png": "[encoded data removed]",
      "text/plain": [
       "<Figure size 360x360 with 1 Axes>"
      ]
     },
     "metadata": {
      "needs_background": "light"
     },
     "output_type": "display_data"
    }
   ],
   "source": [
    "plt.figure(figsize = (5,5))\n",
    "plt.title(\"Numero de observações por Cor\")\n",
    "df_semnan[\"Cor ou raça\"].value_counts().plot(kind = 'bar')"
   ]
  },
  {
   "cell_type": "code",
   "execution_count": 57,
   "metadata": {},
   "outputs": [
    {
     "data": {
      "image/png": "[encoded data removed]",
      "text/plain": [
       "<Figure size 432x288 with 1 Axes>"
      ]
     },
     "metadata": {
      "needs_background": "light"
     },
     "output_type": "display_data"
    }
   ],
   "source": [
    "plt.title(\"Numero de observações por Anos de Estudo\")\n",
    "df_semnan[\"Anos de estudo\"].value_counts().plot(kind = 'bar');"
   ]
  },
  {
   "cell_type": "code",
   "execution_count": 58,
   "metadata": {
    "scrolled": true
   },
   "outputs": [
    {
     "data": {
      "image/png": "[encoded data removed]",
      "text/plain": [
       "<Figure size 432x288 with 1 Axes>"
      ]
     },
     "metadata": {
      "needs_background": "light"
     },
     "output_type": "display_data"
    }
   ],
   "source": [
    "plt.hist(df_semnan[\"Cor ou raça\"])\n",
    "plt.show()"
   ]
  },
  {
   "cell_type": "code",
   "execution_count": 59,
   "metadata": {},
   "outputs": [
    {
     "data": {
      "image/png": "[encoded data removed]",
      "text/plain": [
       "<Figure size 432x288 with 1 Axes>"
      ]
     },
     "metadata": {
      "needs_background": "light"
     },
     "output_type": "display_data"
    }
   ],
   "source": [
    "sns.distplot(df_semnan[\"Cor ou raça\"].value_counts());\n",
    "plt.title(\"Histograma cor\");"
   ]
  },
  {
   "cell_type": "code",
   "execution_count": 60,
   "metadata": {},
   "outputs": [
    {
     "data": {
      "image/png": "[encoded data removed]",
      "text/plain": [
       "<Figure size 432x288 with 1 Axes>"
      ]
     },
     "metadata": {
      "needs_background": "light"
     },
     "output_type": "display_data"
    }
   ],
   "source": [
    "sns.boxplot(x = df_semnan['Cor ou raça'], y = df_semnan['Anos de estudo'].astype(int), data = df_semnan);\n",
    "plt.title(\"Anos de Estudo x Cor\");\n"
   ]
  },
  {
   "cell_type": "code",
   "execution_count": 61,
   "metadata": {},
   "outputs": [
    {
     "data": {
      "image/png": "[encoded data removed]",
      "text/plain": [
       "<Figure size 432x288 with 1 Axes>"
      ]
     },
     "metadata": {
      "needs_background": "light"
     },
     "output_type": "display_data"
    }
   ],
   "source": [
    "sns.boxplot(x = df_semnan['Sexo'], y = df_semnan['Anos de estudo'].astype(int), data = df_semnan);\n",
    "plt.title(\"Anos de Estudo x Sexo\");"
   ]
  },
  {
   "cell_type": "code",
   "execution_count": 62,
   "metadata": {},
   "outputs": [
    {
     "name": "stderr",
     "output_type": "stream",
     "text": [
      "C:\\Users\\jcuri\\Documents\\anaconda\\lib\\site-packages\\ipykernel_launcher.py:1: SettingWithCopyWarning: \n",
      "A value is trying to be set on a copy of a slice from a DataFrame.\n",
      "Try using .loc[row_indexer,col_indexer] = value instead\n",
      "\n",
      "See the caveats in the documentation: http://pandas.pydata.org/pandas-docs/stable/user_guide/indexing.html#returning-a-view-versus-a-copy\n",
      "  \"\"\"Entry point for launching an IPython kernel.\n"
     ]
    }
   ],
   "source": [
    "df_semnan['Anos de estudo'] = df_semnan['Anos de estudo'].astype(int)"
   ]
  },
  {
   "cell_type": "code",
   "execution_count": 63,
   "metadata": {},
   "outputs": [
    {
     "data": {
      "image/png": "[encoded data removed]",
      "text/plain": [
       "<Figure size 432x288 with 1 Axes>"
      ]
     },
     "metadata": {
      "needs_background": "light"
     },
     "output_type": "display_data"
    }
   ],
   "source": [
    "df_semnan.groupby('UF').mean()[['Anos de estudo']].plot(kind='bar');\n",
    "plt.title(\"Anos de estudo média por estado\");"
   ]
  },
  {
   "cell_type": "code",
   "execution_count": 64,
   "metadata": {},
   "outputs": [
    {
     "data": {
      "image/png": "[encoded data removed]",
      "text/plain": [
       "<Figure size 432x288 with 1 Axes>"
      ]
     },
     "metadata": {
      "needs_background": "light"
     },
     "output_type": "display_data"
    }
   ],
   "source": [
    "df_semnan.groupby('Faixa de rendimento').mean()[['Anos de estudo']].plot(kind='bar');\n",
    "plt.title(\"Renda média por anos de estudo\");"
   ]
  },
  {
   "cell_type": "code",
   "execution_count": 65,
   "metadata": {},
   "outputs": [
    {
     "data": {
      "image/png": "[encoded data removed]",
      "text/plain": [
       "<Figure size 432x288 with 1 Axes>"
      ]
     },
     "metadata": {
      "needs_background": "light"
     },
     "output_type": "display_data"
    }
   ],
   "source": [
    "plt.title(\"Numero de observações por Renda\")\n",
    "df_semnan[\"Faixa de rendimento\"].value_counts().plot(kind = 'bar');"
   ]
  },
  {
   "cell_type": "code",
   "execution_count": 66,
   "metadata": {},
   "outputs": [
    {
     "data": {
      "text/plain": [
       "ensino médio completo ou equivalente          60684\n",
       "fundamental incompleto ou equivalente         51054\n",
       "Superior completo ou equivalente              35639\n",
       "fundamental completo ou equivalente           16058\n",
       "ensino médio incompleto ou equivalente        12484\n",
       "Superior incompleto ou equivalente            10977\n",
       "sem instrução ou menos de um ano de estudo     5560\n",
       "Name: Nível de instrução, dtype: int64"
      ]
     },
     "execution_count": 66,
     "metadata": {},
     "output_type": "execute_result"
    }
   ],
   "source": [
    "df_semnan[\"Nível de instrução\"].value_counts()"
   ]
  },
  {
   "cell_type": "code",
   "execution_count": 67,
   "metadata": {},
   "outputs": [
    {
     "data": {
      "image/png": "[encoded data removed]",
      "text/plain": [
       "<Figure size 432x288 with 1 Axes>"
      ]
     },
     "metadata": {
      "needs_background": "light"
     },
     "output_type": "display_data"
    }
   ],
   "source": [
    "df_semnan[\"Nível de instrução\"].value_counts().plot(kind='barh');\n",
    "plt.title(\"Nível de instrução\");"
   ]
  },
  {
   "cell_type": "code",
   "execution_count": 68,
   "metadata": {},
   "outputs": [
    {
     "data": {
      "text/plain": [
       "array(['Parda', 'Preta', 'Branca', 'indígena', 'Amarela', 'Ignorado'],\n",
       "      dtype=object)"
      ]
     },
     "execution_count": 68,
     "metadata": {},
     "output_type": "execute_result"
    }
   ],
   "source": [
    "df_semnan['Cor ou raça'].unique()\n"
   ]
  },
  {
   "cell_type": "code",
   "execution_count": 69,
   "metadata": {},
   "outputs": [
    {
     "name": "stderr",
     "output_type": "stream",
     "text": [
      "C:\\Users\\jcuri\\Documents\\anaconda\\lib\\site-packages\\ipykernel_launcher.py:1: SettingWithCopyWarning: \n",
      "A value is trying to be set on a copy of a slice from a DataFrame.\n",
      "Try using .loc[row_indexer,col_indexer] = value instead\n",
      "\n",
      "See the caveats in the documentation: http://pandas.pydata.org/pandas-docs/stable/user_guide/indexing.html#returning-a-view-versus-a-copy\n",
      "  \"\"\"Entry point for launching an IPython kernel.\n",
      "C:\\Users\\jcuri\\Documents\\anaconda\\lib\\site-packages\\ipykernel_launcher.py:2: SettingWithCopyWarning: \n",
      "A value is trying to be set on a copy of a slice from a DataFrame.\n",
      "Try using .loc[row_indexer,col_indexer] = value instead\n",
      "\n",
      "See the caveats in the documentation: http://pandas.pydata.org/pandas-docs/stable/user_guide/indexing.html#returning-a-view-versus-a-copy\n",
      "  \n"
     ]
    }
   ],
   "source": [
    "df_semnan['Trimestre'] = df_semnan['Trimestre'].astype(int)\n",
    "df_semnan['Horas trabalhadas'] = df_semnan['Horas trabalhadas'].astype(int)"
   ]
  },
  {
   "cell_type": "code",
   "execution_count": 70,
   "metadata": {},
   "outputs": [
    {
     "name": "stdout",
     "output_type": "stream",
     "text": [
      "<class 'pandas.core.frame.DataFrame'>\n",
      "Int64Index: 192456 entries, 2 to 528556\n",
      "Data columns (total 13 columns):\n",
      "Ano                                        192456 non-null object\n",
      "Trimestre                                  192456 non-null int32\n",
      "UF                                         192456 non-null object\n",
      "Sexo                                       192456 non-null object\n",
      "Idade do morador na data de referência     192456 non-null int32\n",
      "Cor ou raça                                192456 non-null object\n",
      "Faixa de rendimento                        192456 non-null object\n",
      "Nível de instrução                         192456 non-null object\n",
      "Anos de estudo                             192456 non-null int32\n",
      "Condição em relação à força de trabalho    192456 non-null object\n",
      "Tipo de ocupação                           192456 non-null object\n",
      "grupo ocupacional                          192456 non-null object\n",
      "Horas trabalhadas                          192456 non-null int32\n",
      "dtypes: int32(4), object(9)\n",
      "memory usage: 22.6+ MB\n"
     ]
    }
   ],
   "source": [
    "df_semnan.info()"
   ]
  },
  {
   "cell_type": "code",
   "execution_count": 71,
   "metadata": {},
   "outputs": [
    {
     "data": {
      "text/html": [
       "<div>\n",
       "<style scoped>\n",
       "    .dataframe tbody tr th:only-of-type {\n",
       "        vertical-align: middle;\n",
       "    }\n",
       "\n",
       "    .dataframe tbody tr th {\n",
       "        vertical-align: top;\n",
       "    }\n",
       "\n",
       "    .dataframe thead th {\n",
       "        text-align: right;\n",
       "    }\n",
       "</style>\n",
       "<table border=\"1\" class=\"dataframe\">\n",
       "  <thead>\n",
       "    <tr style=\"text-align: right;\">\n",
       "      <th></th>\n",
       "      <th>count</th>\n",
       "      <th>mean</th>\n",
       "      <th>std</th>\n",
       "      <th>min</th>\n",
       "      <th>25%</th>\n",
       "      <th>50%</th>\n",
       "      <th>75%</th>\n",
       "      <th>max</th>\n",
       "    </tr>\n",
       "  </thead>\n",
       "  <tbody>\n",
       "    <tr>\n",
       "      <td>Trimestre</td>\n",
       "      <td>192456.0</td>\n",
       "      <td>2.465338</td>\n",
       "      <td>1.084942</td>\n",
       "      <td>1.0</td>\n",
       "      <td>2.0</td>\n",
       "      <td>2.0</td>\n",
       "      <td>3.0</td>\n",
       "      <td>4.0</td>\n",
       "    </tr>\n",
       "    <tr>\n",
       "      <td>Idade do morador na data de referência</td>\n",
       "      <td>192456.0</td>\n",
       "      <td>40.134992</td>\n",
       "      <td>13.277251</td>\n",
       "      <td>14.0</td>\n",
       "      <td>30.0</td>\n",
       "      <td>39.0</td>\n",
       "      <td>50.0</td>\n",
       "      <td>99.0</td>\n",
       "    </tr>\n",
       "    <tr>\n",
       "      <td>Anos de estudo</td>\n",
       "      <td>192456.0</td>\n",
       "      <td>10.350865</td>\n",
       "      <td>4.308160</td>\n",
       "      <td>0.0</td>\n",
       "      <td>7.0</td>\n",
       "      <td>12.0</td>\n",
       "      <td>12.0</td>\n",
       "      <td>16.0</td>\n",
       "    </tr>\n",
       "    <tr>\n",
       "      <td>Horas trabalhadas</td>\n",
       "      <td>192456.0</td>\n",
       "      <td>3.022997</td>\n",
       "      <td>0.978919</td>\n",
       "      <td>1.0</td>\n",
       "      <td>2.0</td>\n",
       "      <td>3.0</td>\n",
       "      <td>3.0</td>\n",
       "      <td>5.0</td>\n",
       "    </tr>\n",
       "  </tbody>\n",
       "</table>\n",
       "</div>"
      ],
      "text/plain": [
       "                                           count       mean        std   min  \\\n",
       "Trimestre                               192456.0   2.465338   1.084942   1.0   \n",
       "Idade do morador na data de referência  192456.0  40.134992  13.277251  14.0   \n",
       "Anos de estudo                          192456.0  10.350865   4.308160   0.0   \n",
       "Horas trabalhadas                       192456.0   3.022997   0.978919   1.0   \n",
       "\n",
       "                                         25%   50%   75%   max  \n",
       "Trimestre                                2.0   2.0   3.0   4.0  \n",
       "Idade do morador na data de referência  30.0  39.0  50.0  99.0  \n",
       "Anos de estudo                           7.0  12.0  12.0  16.0  \n",
       "Horas trabalhadas                        2.0   3.0   3.0   5.0  "
      ]
     },
     "execution_count": 71,
     "metadata": {},
     "output_type": "execute_result"
    }
   ],
   "source": [
    "df_semnan.describe().T"
   ]
  },
  {
   "cell_type": "code",
   "execution_count": 72,
   "metadata": {
    "scrolled": true
   },
   "outputs": [
    {
     "data": {
      "text/plain": [
       "Parda       92368\n",
       "Branca      80547\n",
       "Preta       17658\n",
       "Amarela      1048\n",
       "indígena      827\n",
       "Ignorado        8\n",
       "Name: Cor ou raça, dtype: int64"
      ]
     },
     "execution_count": 72,
     "metadata": {},
     "output_type": "execute_result"
    }
   ],
   "source": [
    "df_semnan['Cor ou raça'].value_counts()"
   ]
  },
  {
   "cell_type": "code",
   "execution_count": 73,
   "metadata": {},
   "outputs": [
    {
     "data": {
      "text/plain": [
       "array(['dois a três salários mínimos ', 'um a dois salários mínimos',\n",
       "       'zero a meio salário mínimo', 'meio a um salário mínimo',\n",
       "       'cinco a dez salários mínimos', 'três a cinco salários mínimos',\n",
       "       'dez a vinte salários mínimos', 'vinte ou mais'], dtype=object)"
      ]
     },
     "execution_count": 73,
     "metadata": {},
     "output_type": "execute_result"
    }
   ],
   "source": [
    "df_semnan['Faixa de rendimento'].unique()"
   ]
  },
  {
   "cell_type": "code",
   "execution_count": 74,
   "metadata": {},
   "outputs": [],
   "source": [
    "salario_ordem = [\n",
    "    'zero a meio salário mínimo',\n",
    "    'meio a um salário mínimo',\n",
    "    'um a dois salários mínimos',\n",
    "    'dois a três salários mínimos ',\n",
    "    'três a cinco salários mínimos',\n",
    "    'cinco a dez salários mínimos',\n",
    "    'dez a vinte salários mínimos',\n",
    "    'vinte ou mais']"
   ]
  },
  {
   "cell_type": "code",
   "execution_count": 75,
   "metadata": {},
   "outputs": [
    {
     "data": {
      "image/png": "[encoded data removed]",
      "text/plain": [
       "<Figure size 1080x504 with 1 Axes>"
      ]
     },
     "metadata": {
      "needs_background": "light"
     },
     "output_type": "display_data"
    }
   ],
   "source": [
    "plt.figure(figsize=(15,7))\n",
    "ax=sns.countplot(x=df_semnan['Faixa de rendimento'],orient='h',order=salario_ordem, hue ='Cor ou raça',data = df_semnan,palette ='Paired')\n",
    "ax.set_title('faixa de rendiento por cor de pele');\n",
    "ax.set_xticklabels(ax.get_xticklabels(), rotation=45);\n"
   ]
  },
  {
   "cell_type": "code",
   "execution_count": 76,
   "metadata": {},
   "outputs": [
    {
     "data": {
      "image/png": "[encoded data removed]",
      "text/plain": [
       "<Figure size 1080x504 with 1 Axes>"
      ]
     },
     "metadata": {
      "needs_background": "light"
     },
     "output_type": "display_data"
    }
   ],
   "source": [
    "plt.figure(figsize=(15,7))\n",
    "ax=sns.countplot(x=df_semnan['Faixa de rendimento'],orient='h',order=salario_ordem, hue ='Sexo',data = df_semnan, palette ='hls')\n",
    "ax.set_title('faixa de rendimento por sexo');\n",
    "ax.set_xticklabels(ax.get_xticklabels(), rotation=45);\n"
   ]
  },
  {
   "cell_type": "code",
   "execution_count": 77,
   "metadata": {
    "scrolled": true
   },
   "outputs": [
    {
     "data": {
      "text/plain": [
       "ensino médio completo ou equivalente          60684\n",
       "fundamental incompleto ou equivalente         51054\n",
       "Superior completo ou equivalente              35639\n",
       "fundamental completo ou equivalente           16058\n",
       "ensino médio incompleto ou equivalente        12484\n",
       "Superior incompleto ou equivalente            10977\n",
       "sem instrução ou menos de um ano de estudo     5560\n",
       "Name: Nível de instrução, dtype: int64"
      ]
     },
     "execution_count": 77,
     "metadata": {},
     "output_type": "execute_result"
    }
   ],
   "source": [
    "df_semnan['Nível de instrução'].value_counts()"
   ]
  },
  {
   "cell_type": "code",
   "execution_count": 78,
   "metadata": {},
   "outputs": [],
   "source": [
    "Instucao_ordem = [\n",
    "    'sem instrução ou menos de um ano de estudo',\n",
    "    'fundamental incompleto ou equivalente',\n",
    "    'fundamental completo ou equivalente',\n",
    "    'ensino médio incompleto ou equivalente ',\n",
    "    'ensino médio completo ou equivalente',\n",
    "    'Superior incompleto ou equivalente',\n",
    "    'Superior completo ou equivalente']"
   ]
  },
  {
   "cell_type": "code",
   "execution_count": 79,
   "metadata": {},
   "outputs": [
    {
     "data": {
      "image/png": "[encoded data removed]",
      "text/plain": [
       "<Figure size 432x288 with 2 Axes>"
      ]
     },
     "metadata": {
      "needs_background": "light"
     },
     "output_type": "display_data"
    }
   ],
   "source": [
    "corr = df_semnan.corr()\n",
    "sns.heatmap(corr, annot = True, vmin = 0, vmax = 1,cmap = 'Purples');"
   ]
  },
  {
   "cell_type": "markdown",
   "metadata": {},
   "source": [
    "proximos passos:\n",
    "random forest\n",
    "\n",
    "Preparar a base para alimentar o modelo:\n",
    "* Verifcar presença de nan\n",
    "* Verificar quais são as colunas que vamos de fato utilizar para o primeiro modelo\n",
    "* Ler na documentação do Scikit Learn se o algoritmo random forest aceita variáveis categóricas\n",
    "* Caso não aceite, utilizar a função get_dummies() do pandas\n",
    "* Normalizar variáveis numéricas (Min_Max_Scaler ou StandardScaler)\n",
    "* Transformar a base de dados em X e y, sendo X -> Todas as varáveis, exceto a faixa salarial / y -> a faixa salarial\n",
    "* Train Test Split\n",
    "* Importar o modelo (Random forest)\n",
    "* Treinar o modelo."
   ]
  },
  {
   "cell_type": "code",
   "execution_count": 80,
   "metadata": {},
   "outputs": [],
   "source": [
    "#dicionário de faixa de rendimento\n",
    "Dict_Renda = {\n",
    "    'zero':0,\n",
    "    'zero a meio salário mínimo':1,\n",
    "    'meio a um salário mínimo':2,\n",
    "    'um a dois salários mínimos':3,\n",
    "    'dois a três salários mínimos ':4,\n",
    "    'três a cinco salários mínimos':5,\n",
    "    'cinco a dez salários mínimos':6,\n",
    "    'dez a vinte salários mínimos':7,\n",
    "    'vinte ou mais':8,\n",
    "    }"
   ]
  },
  {
   "cell_type": "code",
   "execution_count": 81,
   "metadata": {},
   "outputs": [
    {
     "name": "stderr",
     "output_type": "stream",
     "text": [
      "C:\\Users\\jcuri\\Documents\\anaconda\\lib\\site-packages\\ipykernel_launcher.py:1: SettingWithCopyWarning: \n",
      "A value is trying to be set on a copy of a slice from a DataFrame.\n",
      "Try using .loc[row_indexer,col_indexer] = value instead\n",
      "\n",
      "See the caveats in the documentation: http://pandas.pydata.org/pandas-docs/stable/user_guide/indexing.html#returning-a-view-versus-a-copy\n",
      "  \"\"\"Entry point for launching an IPython kernel.\n"
     ]
    }
   ],
   "source": [
    "df_semnan[\"Faixa de rendimento\"] = df_semnan[\"Faixa de rendimento\"].map(Dict_Renda)"
   ]
  },
  {
   "cell_type": "code",
   "execution_count": 82,
   "metadata": {},
   "outputs": [
    {
     "data": {
      "text/html": [
       "<div>\n",
       "<style scoped>\n",
       "    .dataframe tbody tr th:only-of-type {\n",
       "        vertical-align: middle;\n",
       "    }\n",
       "\n",
       "    .dataframe tbody tr th {\n",
       "        vertical-align: top;\n",
       "    }\n",
       "\n",
       "    .dataframe thead th {\n",
       "        text-align: right;\n",
       "    }\n",
       "</style>\n",
       "<table border=\"1\" class=\"dataframe\">\n",
       "  <thead>\n",
       "    <tr style=\"text-align: right;\">\n",
       "      <th></th>\n",
       "      <th>Ano</th>\n",
       "      <th>Trimestre</th>\n",
       "      <th>UF</th>\n",
       "      <th>Sexo</th>\n",
       "      <th>Idade do morador na data de referência</th>\n",
       "      <th>Cor ou raça</th>\n",
       "      <th>Faixa de rendimento</th>\n",
       "      <th>Nível de instrução</th>\n",
       "      <th>Anos de estudo</th>\n",
       "      <th>Condição em relação à força de trabalho</th>\n",
       "      <th>Tipo de ocupação</th>\n",
       "      <th>grupo ocupacional</th>\n",
       "      <th>Horas trabalhadas</th>\n",
       "    </tr>\n",
       "  </thead>\n",
       "  <tbody>\n",
       "    <tr>\n",
       "      <td>2</td>\n",
       "      <td>2018</td>\n",
       "      <td>1</td>\n",
       "      <td>Paraíba</td>\n",
       "      <td>Mulher</td>\n",
       "      <td>28</td>\n",
       "      <td>Parda</td>\n",
       "      <td>4</td>\n",
       "      <td>Superior completo ou equivalente</td>\n",
       "      <td>16</td>\n",
       "      <td>trabalha</td>\n",
       "      <td>Militar e serviço estatutário</td>\n",
       "      <td>Proficionais das ciências e intelectuais</td>\n",
       "      <td>3</td>\n",
       "    </tr>\n",
       "    <tr>\n",
       "      <td>5</td>\n",
       "      <td>2018</td>\n",
       "      <td>1</td>\n",
       "      <td>Bahia</td>\n",
       "      <td>Homem</td>\n",
       "      <td>33</td>\n",
       "      <td>Parda</td>\n",
       "      <td>3</td>\n",
       "      <td>ensino médio completo ou equivalente</td>\n",
       "      <td>12</td>\n",
       "      <td>trabalha</td>\n",
       "      <td>Militar e serviço estatutário</td>\n",
       "      <td>Operadores de instalações e máquinas e montadores</td>\n",
       "      <td>5</td>\n",
       "    </tr>\n",
       "    <tr>\n",
       "      <td>7</td>\n",
       "      <td>2018</td>\n",
       "      <td>1</td>\n",
       "      <td>São Paulo</td>\n",
       "      <td>Homem</td>\n",
       "      <td>26</td>\n",
       "      <td>Preta</td>\n",
       "      <td>3</td>\n",
       "      <td>ensino médio completo ou equivalente</td>\n",
       "      <td>12</td>\n",
       "      <td>trabalha</td>\n",
       "      <td>Conta própria</td>\n",
       "      <td>Trabalhadores de serviços,vendedores dos comér...</td>\n",
       "      <td>2</td>\n",
       "    </tr>\n",
       "    <tr>\n",
       "      <td>11</td>\n",
       "      <td>2018</td>\n",
       "      <td>1</td>\n",
       "      <td>Rio Grande do Sul</td>\n",
       "      <td>Mulher</td>\n",
       "      <td>18</td>\n",
       "      <td>Preta</td>\n",
       "      <td>3</td>\n",
       "      <td>ensino médio completo ou equivalente</td>\n",
       "      <td>12</td>\n",
       "      <td>trabalha</td>\n",
       "      <td>empregado setor privado CLT</td>\n",
       "      <td>Trabalhadores de apoio administrativo</td>\n",
       "      <td>3</td>\n",
       "    </tr>\n",
       "    <tr>\n",
       "      <td>13</td>\n",
       "      <td>2018</td>\n",
       "      <td>1</td>\n",
       "      <td>Santa Catarina</td>\n",
       "      <td>Mulher</td>\n",
       "      <td>18</td>\n",
       "      <td>Preta</td>\n",
       "      <td>1</td>\n",
       "      <td>Superior incompleto ou equivalente</td>\n",
       "      <td>13</td>\n",
       "      <td>trabalha</td>\n",
       "      <td>empregado setor público sem CLT</td>\n",
       "      <td>Proficionais das ciências e intelectuais</td>\n",
       "      <td>2</td>\n",
       "    </tr>\n",
       "  </tbody>\n",
       "</table>\n",
       "</div>"
      ],
      "text/plain": [
       "     Ano  Trimestre                 UF    Sexo  \\\n",
       "2   2018          1            Paraíba  Mulher   \n",
       "5   2018          1              Bahia   Homem   \n",
       "7   2018          1          São Paulo   Homem   \n",
       "11  2018          1  Rio Grande do Sul  Mulher   \n",
       "13  2018          1     Santa Catarina  Mulher   \n",
       "\n",
       "    Idade do morador na data de referência Cor ou raça  Faixa de rendimento  \\\n",
       "2                                       28       Parda                    4   \n",
       "5                                       33       Parda                    3   \n",
       "7                                       26       Preta                    3   \n",
       "11                                      18       Preta                    3   \n",
       "13                                      18       Preta                    1   \n",
       "\n",
       "                      Nível de instrução  Anos de estudo  \\\n",
       "2       Superior completo ou equivalente              16   \n",
       "5   ensino médio completo ou equivalente              12   \n",
       "7   ensino médio completo ou equivalente              12   \n",
       "11  ensino médio completo ou equivalente              12   \n",
       "13    Superior incompleto ou equivalente              13   \n",
       "\n",
       "   Condição em relação à força de trabalho                 Tipo de ocupação  \\\n",
       "2                                 trabalha   Militar e serviço estatutário    \n",
       "5                                 trabalha   Militar e serviço estatutário    \n",
       "7                                 trabalha                    Conta própria   \n",
       "11                                trabalha      empregado setor privado CLT   \n",
       "13                                trabalha  empregado setor público sem CLT   \n",
       "\n",
       "                                    grupo ocupacional  Horas trabalhadas  \n",
       "2            Proficionais das ciências e intelectuais                  3  \n",
       "5   Operadores de instalações e máquinas e montadores                  5  \n",
       "7   Trabalhadores de serviços,vendedores dos comér...                  2  \n",
       "11              Trabalhadores de apoio administrativo                  3  \n",
       "13           Proficionais das ciências e intelectuais                  2  "
      ]
     },
     "execution_count": 82,
     "metadata": {},
     "output_type": "execute_result"
    }
   ],
   "source": [
    "df_semnan.head()"
   ]
  },
  {
   "cell_type": "code",
   "execution_count": 122,
   "metadata": {},
   "outputs": [],
   "source": [
    "def resucao_salario(x):\n",
    "    if (x == 1) or (x==2):#de 0 a 1 salário mínimo        \n",
    "        return 1\n",
    "    elif (x == 3) or (x==4) or (x==5):# de 2 a 5 salarios\n",
    "        return 2\n",
    "    elif (x == 6) or (x==7) or (x==8):#até de 5 salários\n",
    "        return 3\n",
    "     \n",
    "    \n",
    "df_semnan['Faixa de rendimento'] = df_semnan['Faixa de rendimento'].map(resucao_salario)"
   ]
  },
  {
   "cell_type": "code",
   "execution_count": 123,
   "metadata": {
    "scrolled": true
   },
   "outputs": [
    {
     "data": {
      "text/html": [
       "<div>\n",
       "<style scoped>\n",
       "    .dataframe tbody tr th:only-of-type {\n",
       "        vertical-align: middle;\n",
       "    }\n",
       "\n",
       "    .dataframe tbody tr th {\n",
       "        vertical-align: top;\n",
       "    }\n",
       "\n",
       "    .dataframe thead th {\n",
       "        text-align: right;\n",
       "    }\n",
       "</style>\n",
       "<table border=\"1\" class=\"dataframe\">\n",
       "  <thead>\n",
       "    <tr style=\"text-align: right;\">\n",
       "      <th></th>\n",
       "      <th>Trimestre</th>\n",
       "      <th>Idade do morador na data de referência</th>\n",
       "      <th>Faixa de rendimento</th>\n",
       "      <th>Anos de estudo</th>\n",
       "      <th>Horas trabalhadas</th>\n",
       "      <th>Ano_2019</th>\n",
       "      <th>Ano_2020</th>\n",
       "      <th>UF_Alagoas</th>\n",
       "      <th>UF_Amapá</th>\n",
       "      <th>UF_Amazonas</th>\n",
       "      <th>...</th>\n",
       "      <th>grupo ocupacional_Membros das forças armadas, policiais e bombeiros militares</th>\n",
       "      <th>grupo ocupacional_Ocupações elementares</th>\n",
       "      <th>grupo ocupacional_Ocupações maldefinidas</th>\n",
       "      <th>grupo ocupacional_Operadores de instalações e máquinas e montadores</th>\n",
       "      <th>grupo ocupacional_Proficionais das ciências e intelectuais</th>\n",
       "      <th>grupo ocupacional_Trabalhadores de apoio administrativo</th>\n",
       "      <th>grupo ocupacional_Trabalhadores de serviços,vendedores dos comércios e supermercados</th>\n",
       "      <th>grupo ocupacional_Trabalhadores qualificados da agropecuária, florestais, da caça e da pesca</th>\n",
       "      <th>grupo ocupacional_Trabalhadores qualificados, operários e artesões da construção, das artes mecânicas e outros ofícios</th>\n",
       "      <th>grupo ocupacional_Técnicos e profissionais nível médio</th>\n",
       "    </tr>\n",
       "  </thead>\n",
       "  <tbody>\n",
       "    <tr>\n",
       "      <td>2</td>\n",
       "      <td>1</td>\n",
       "      <td>28</td>\n",
       "      <td>1</td>\n",
       "      <td>16</td>\n",
       "      <td>3</td>\n",
       "      <td>0</td>\n",
       "      <td>0</td>\n",
       "      <td>0</td>\n",
       "      <td>0</td>\n",
       "      <td>0</td>\n",
       "      <td>...</td>\n",
       "      <td>0</td>\n",
       "      <td>0</td>\n",
       "      <td>0</td>\n",
       "      <td>0</td>\n",
       "      <td>1</td>\n",
       "      <td>0</td>\n",
       "      <td>0</td>\n",
       "      <td>0</td>\n",
       "      <td>0</td>\n",
       "      <td>0</td>\n",
       "    </tr>\n",
       "    <tr>\n",
       "      <td>5</td>\n",
       "      <td>1</td>\n",
       "      <td>33</td>\n",
       "      <td>1</td>\n",
       "      <td>12</td>\n",
       "      <td>5</td>\n",
       "      <td>0</td>\n",
       "      <td>0</td>\n",
       "      <td>0</td>\n",
       "      <td>0</td>\n",
       "      <td>0</td>\n",
       "      <td>...</td>\n",
       "      <td>0</td>\n",
       "      <td>0</td>\n",
       "      <td>0</td>\n",
       "      <td>1</td>\n",
       "      <td>0</td>\n",
       "      <td>0</td>\n",
       "      <td>0</td>\n",
       "      <td>0</td>\n",
       "      <td>0</td>\n",
       "      <td>0</td>\n",
       "    </tr>\n",
       "    <tr>\n",
       "      <td>7</td>\n",
       "      <td>1</td>\n",
       "      <td>26</td>\n",
       "      <td>1</td>\n",
       "      <td>12</td>\n",
       "      <td>2</td>\n",
       "      <td>0</td>\n",
       "      <td>0</td>\n",
       "      <td>0</td>\n",
       "      <td>0</td>\n",
       "      <td>0</td>\n",
       "      <td>...</td>\n",
       "      <td>0</td>\n",
       "      <td>0</td>\n",
       "      <td>0</td>\n",
       "      <td>0</td>\n",
       "      <td>0</td>\n",
       "      <td>0</td>\n",
       "      <td>1</td>\n",
       "      <td>0</td>\n",
       "      <td>0</td>\n",
       "      <td>0</td>\n",
       "    </tr>\n",
       "    <tr>\n",
       "      <td>11</td>\n",
       "      <td>1</td>\n",
       "      <td>18</td>\n",
       "      <td>1</td>\n",
       "      <td>12</td>\n",
       "      <td>3</td>\n",
       "      <td>0</td>\n",
       "      <td>0</td>\n",
       "      <td>0</td>\n",
       "      <td>0</td>\n",
       "      <td>0</td>\n",
       "      <td>...</td>\n",
       "      <td>0</td>\n",
       "      <td>0</td>\n",
       "      <td>0</td>\n",
       "      <td>0</td>\n",
       "      <td>0</td>\n",
       "      <td>1</td>\n",
       "      <td>0</td>\n",
       "      <td>0</td>\n",
       "      <td>0</td>\n",
       "      <td>0</td>\n",
       "    </tr>\n",
       "    <tr>\n",
       "      <td>13</td>\n",
       "      <td>1</td>\n",
       "      <td>18</td>\n",
       "      <td>1</td>\n",
       "      <td>13</td>\n",
       "      <td>2</td>\n",
       "      <td>0</td>\n",
       "      <td>0</td>\n",
       "      <td>0</td>\n",
       "      <td>0</td>\n",
       "      <td>0</td>\n",
       "      <td>...</td>\n",
       "      <td>0</td>\n",
       "      <td>0</td>\n",
       "      <td>0</td>\n",
       "      <td>0</td>\n",
       "      <td>1</td>\n",
       "      <td>0</td>\n",
       "      <td>0</td>\n",
       "      <td>0</td>\n",
       "      <td>0</td>\n",
       "      <td>0</td>\n",
       "    </tr>\n",
       "  </tbody>\n",
       "</table>\n",
       "<p>5 rows × 63 columns</p>\n",
       "</div>"
      ],
      "text/plain": [
       "    Trimestre  Idade do morador na data de referência  Faixa de rendimento  \\\n",
       "2           1                                      28                    1   \n",
       "5           1                                      33                    1   \n",
       "7           1                                      26                    1   \n",
       "11          1                                      18                    1   \n",
       "13          1                                      18                    1   \n",
       "\n",
       "    Anos de estudo  Horas trabalhadas  Ano_2019  Ano_2020  UF_Alagoas  \\\n",
       "2               16                  3         0         0           0   \n",
       "5               12                  5         0         0           0   \n",
       "7               12                  2         0         0           0   \n",
       "11              12                  3         0         0           0   \n",
       "13              13                  2         0         0           0   \n",
       "\n",
       "    UF_Amapá  UF_Amazonas  ...  \\\n",
       "2          0            0  ...   \n",
       "5          0            0  ...   \n",
       "7          0            0  ...   \n",
       "11         0            0  ...   \n",
       "13         0            0  ...   \n",
       "\n",
       "    grupo ocupacional_Membros das forças armadas, policiais e bombeiros militares  \\\n",
       "2                                                   0                               \n",
       "5                                                   0                               \n",
       "7                                                   0                               \n",
       "11                                                  0                               \n",
       "13                                                  0                               \n",
       "\n",
       "    grupo ocupacional_Ocupações elementares  \\\n",
       "2                                         0   \n",
       "5                                         0   \n",
       "7                                         0   \n",
       "11                                        0   \n",
       "13                                        0   \n",
       "\n",
       "    grupo ocupacional_Ocupações maldefinidas   \\\n",
       "2                                           0   \n",
       "5                                           0   \n",
       "7                                           0   \n",
       "11                                          0   \n",
       "13                                          0   \n",
       "\n",
       "    grupo ocupacional_Operadores de instalações e máquinas e montadores  \\\n",
       "2                                                   0                     \n",
       "5                                                   1                     \n",
       "7                                                   0                     \n",
       "11                                                  0                     \n",
       "13                                                  0                     \n",
       "\n",
       "    grupo ocupacional_Proficionais das ciências e intelectuais  \\\n",
       "2                                                   1            \n",
       "5                                                   0            \n",
       "7                                                   0            \n",
       "11                                                  0            \n",
       "13                                                  1            \n",
       "\n",
       "    grupo ocupacional_Trabalhadores de apoio administrativo  \\\n",
       "2                                                   0         \n",
       "5                                                   0         \n",
       "7                                                   0         \n",
       "11                                                  1         \n",
       "13                                                  0         \n",
       "\n",
       "    grupo ocupacional_Trabalhadores de serviços,vendedores dos comércios e supermercados  \\\n",
       "2                                                   0                                      \n",
       "5                                                   0                                      \n",
       "7                                                   1                                      \n",
       "11                                                  0                                      \n",
       "13                                                  0                                      \n",
       "\n",
       "    grupo ocupacional_Trabalhadores qualificados da agropecuária, florestais, da caça e da pesca  \\\n",
       "2                                                   0                                              \n",
       "5                                                   0                                              \n",
       "7                                                   0                                              \n",
       "11                                                  0                                              \n",
       "13                                                  0                                              \n",
       "\n",
       "    grupo ocupacional_Trabalhadores qualificados, operários e artesões da construção, das artes mecânicas e outros ofícios  \\\n",
       "2                                                   0                                                                        \n",
       "5                                                   0                                                                        \n",
       "7                                                   0                                                                        \n",
       "11                                                  0                                                                        \n",
       "13                                                  0                                                                        \n",
       "\n",
       "    grupo ocupacional_Técnicos e profissionais nível médio  \n",
       "2                                                   0       \n",
       "5                                                   0       \n",
       "7                                                   0       \n",
       "11                                                  0       \n",
       "13                                                  0       \n",
       "\n",
       "[5 rows x 63 columns]"
      ]
     },
     "execution_count": 123,
     "metadata": {},
     "output_type": "execute_result"
    }
   ],
   "source": [
    "df_semnan.head()"
   ]
  },
  {
   "cell_type": "markdown",
   "metadata": {},
   "source": [
    "**One Hot Encoding**"
   ]
  },
  {
   "cell_type": "code",
   "execution_count": 124,
   "metadata": {},
   "outputs": [
    {
     "data": {
      "text/plain": [
       "(192456, 63)"
      ]
     },
     "execution_count": 124,
     "metadata": {},
     "output_type": "execute_result"
    }
   ],
   "source": [
    "df_semnan = pd.get_dummies(df_semnan, drop_first = True)\n",
    "df_semnan.shape"
   ]
  },
  {
   "cell_type": "code",
   "execution_count": 125,
   "metadata": {},
   "outputs": [
    {
     "data": {
      "text/html": [
       "<div>\n",
       "<style scoped>\n",
       "    .dataframe tbody tr th:only-of-type {\n",
       "        vertical-align: middle;\n",
       "    }\n",
       "\n",
       "    .dataframe tbody tr th {\n",
       "        vertical-align: top;\n",
       "    }\n",
       "\n",
       "    .dataframe thead th {\n",
       "        text-align: right;\n",
       "    }\n",
       "</style>\n",
       "<table border=\"1\" class=\"dataframe\">\n",
       "  <thead>\n",
       "    <tr style=\"text-align: right;\">\n",
       "      <th></th>\n",
       "      <th>Trimestre</th>\n",
       "      <th>Idade do morador na data de referência</th>\n",
       "      <th>Faixa de rendimento</th>\n",
       "      <th>Anos de estudo</th>\n",
       "      <th>Horas trabalhadas</th>\n",
       "      <th>Ano_2019</th>\n",
       "      <th>Ano_2020</th>\n",
       "      <th>UF_Alagoas</th>\n",
       "      <th>UF_Amapá</th>\n",
       "      <th>UF_Amazonas</th>\n",
       "      <th>...</th>\n",
       "      <th>grupo ocupacional_Membros das forças armadas, policiais e bombeiros militares</th>\n",
       "      <th>grupo ocupacional_Ocupações elementares</th>\n",
       "      <th>grupo ocupacional_Ocupações maldefinidas</th>\n",
       "      <th>grupo ocupacional_Operadores de instalações e máquinas e montadores</th>\n",
       "      <th>grupo ocupacional_Proficionais das ciências e intelectuais</th>\n",
       "      <th>grupo ocupacional_Trabalhadores de apoio administrativo</th>\n",
       "      <th>grupo ocupacional_Trabalhadores de serviços,vendedores dos comércios e supermercados</th>\n",
       "      <th>grupo ocupacional_Trabalhadores qualificados da agropecuária, florestais, da caça e da pesca</th>\n",
       "      <th>grupo ocupacional_Trabalhadores qualificados, operários e artesões da construção, das artes mecânicas e outros ofícios</th>\n",
       "      <th>grupo ocupacional_Técnicos e profissionais nível médio</th>\n",
       "    </tr>\n",
       "  </thead>\n",
       "  <tbody>\n",
       "    <tr>\n",
       "      <td>2</td>\n",
       "      <td>1</td>\n",
       "      <td>28</td>\n",
       "      <td>1</td>\n",
       "      <td>16</td>\n",
       "      <td>3</td>\n",
       "      <td>0</td>\n",
       "      <td>0</td>\n",
       "      <td>0</td>\n",
       "      <td>0</td>\n",
       "      <td>0</td>\n",
       "      <td>...</td>\n",
       "      <td>0</td>\n",
       "      <td>0</td>\n",
       "      <td>0</td>\n",
       "      <td>0</td>\n",
       "      <td>1</td>\n",
       "      <td>0</td>\n",
       "      <td>0</td>\n",
       "      <td>0</td>\n",
       "      <td>0</td>\n",
       "      <td>0</td>\n",
       "    </tr>\n",
       "    <tr>\n",
       "      <td>5</td>\n",
       "      <td>1</td>\n",
       "      <td>33</td>\n",
       "      <td>1</td>\n",
       "      <td>12</td>\n",
       "      <td>5</td>\n",
       "      <td>0</td>\n",
       "      <td>0</td>\n",
       "      <td>0</td>\n",
       "      <td>0</td>\n",
       "      <td>0</td>\n",
       "      <td>...</td>\n",
       "      <td>0</td>\n",
       "      <td>0</td>\n",
       "      <td>0</td>\n",
       "      <td>1</td>\n",
       "      <td>0</td>\n",
       "      <td>0</td>\n",
       "      <td>0</td>\n",
       "      <td>0</td>\n",
       "      <td>0</td>\n",
       "      <td>0</td>\n",
       "    </tr>\n",
       "    <tr>\n",
       "      <td>7</td>\n",
       "      <td>1</td>\n",
       "      <td>26</td>\n",
       "      <td>1</td>\n",
       "      <td>12</td>\n",
       "      <td>2</td>\n",
       "      <td>0</td>\n",
       "      <td>0</td>\n",
       "      <td>0</td>\n",
       "      <td>0</td>\n",
       "      <td>0</td>\n",
       "      <td>...</td>\n",
       "      <td>0</td>\n",
       "      <td>0</td>\n",
       "      <td>0</td>\n",
       "      <td>0</td>\n",
       "      <td>0</td>\n",
       "      <td>0</td>\n",
       "      <td>1</td>\n",
       "      <td>0</td>\n",
       "      <td>0</td>\n",
       "      <td>0</td>\n",
       "    </tr>\n",
       "    <tr>\n",
       "      <td>11</td>\n",
       "      <td>1</td>\n",
       "      <td>18</td>\n",
       "      <td>1</td>\n",
       "      <td>12</td>\n",
       "      <td>3</td>\n",
       "      <td>0</td>\n",
       "      <td>0</td>\n",
       "      <td>0</td>\n",
       "      <td>0</td>\n",
       "      <td>0</td>\n",
       "      <td>...</td>\n",
       "      <td>0</td>\n",
       "      <td>0</td>\n",
       "      <td>0</td>\n",
       "      <td>0</td>\n",
       "      <td>0</td>\n",
       "      <td>1</td>\n",
       "      <td>0</td>\n",
       "      <td>0</td>\n",
       "      <td>0</td>\n",
       "      <td>0</td>\n",
       "    </tr>\n",
       "    <tr>\n",
       "      <td>13</td>\n",
       "      <td>1</td>\n",
       "      <td>18</td>\n",
       "      <td>1</td>\n",
       "      <td>13</td>\n",
       "      <td>2</td>\n",
       "      <td>0</td>\n",
       "      <td>0</td>\n",
       "      <td>0</td>\n",
       "      <td>0</td>\n",
       "      <td>0</td>\n",
       "      <td>...</td>\n",
       "      <td>0</td>\n",
       "      <td>0</td>\n",
       "      <td>0</td>\n",
       "      <td>0</td>\n",
       "      <td>1</td>\n",
       "      <td>0</td>\n",
       "      <td>0</td>\n",
       "      <td>0</td>\n",
       "      <td>0</td>\n",
       "      <td>0</td>\n",
       "    </tr>\n",
       "  </tbody>\n",
       "</table>\n",
       "<p>5 rows × 63 columns</p>\n",
       "</div>"
      ],
      "text/plain": [
       "    Trimestre  Idade do morador na data de referência  Faixa de rendimento  \\\n",
       "2           1                                      28                    1   \n",
       "5           1                                      33                    1   \n",
       "7           1                                      26                    1   \n",
       "11          1                                      18                    1   \n",
       "13          1                                      18                    1   \n",
       "\n",
       "    Anos de estudo  Horas trabalhadas  Ano_2019  Ano_2020  UF_Alagoas  \\\n",
       "2               16                  3         0         0           0   \n",
       "5               12                  5         0         0           0   \n",
       "7               12                  2         0         0           0   \n",
       "11              12                  3         0         0           0   \n",
       "13              13                  2         0         0           0   \n",
       "\n",
       "    UF_Amapá  UF_Amazonas  ...  \\\n",
       "2          0            0  ...   \n",
       "5          0            0  ...   \n",
       "7          0            0  ...   \n",
       "11         0            0  ...   \n",
       "13         0            0  ...   \n",
       "\n",
       "    grupo ocupacional_Membros das forças armadas, policiais e bombeiros militares  \\\n",
       "2                                                   0                               \n",
       "5                                                   0                               \n",
       "7                                                   0                               \n",
       "11                                                  0                               \n",
       "13                                                  0                               \n",
       "\n",
       "    grupo ocupacional_Ocupações elementares  \\\n",
       "2                                         0   \n",
       "5                                         0   \n",
       "7                                         0   \n",
       "11                                        0   \n",
       "13                                        0   \n",
       "\n",
       "    grupo ocupacional_Ocupações maldefinidas   \\\n",
       "2                                           0   \n",
       "5                                           0   \n",
       "7                                           0   \n",
       "11                                          0   \n",
       "13                                          0   \n",
       "\n",
       "    grupo ocupacional_Operadores de instalações e máquinas e montadores  \\\n",
       "2                                                   0                     \n",
       "5                                                   1                     \n",
       "7                                                   0                     \n",
       "11                                                  0                     \n",
       "13                                                  0                     \n",
       "\n",
       "    grupo ocupacional_Proficionais das ciências e intelectuais  \\\n",
       "2                                                   1            \n",
       "5                                                   0            \n",
       "7                                                   0            \n",
       "11                                                  0            \n",
       "13                                                  1            \n",
       "\n",
       "    grupo ocupacional_Trabalhadores de apoio administrativo  \\\n",
       "2                                                   0         \n",
       "5                                                   0         \n",
       "7                                                   0         \n",
       "11                                                  1         \n",
       "13                                                  0         \n",
       "\n",
       "    grupo ocupacional_Trabalhadores de serviços,vendedores dos comércios e supermercados  \\\n",
       "2                                                   0                                      \n",
       "5                                                   0                                      \n",
       "7                                                   1                                      \n",
       "11                                                  0                                      \n",
       "13                                                  0                                      \n",
       "\n",
       "    grupo ocupacional_Trabalhadores qualificados da agropecuária, florestais, da caça e da pesca  \\\n",
       "2                                                   0                                              \n",
       "5                                                   0                                              \n",
       "7                                                   0                                              \n",
       "11                                                  0                                              \n",
       "13                                                  0                                              \n",
       "\n",
       "    grupo ocupacional_Trabalhadores qualificados, operários e artesões da construção, das artes mecânicas e outros ofícios  \\\n",
       "2                                                   0                                                                        \n",
       "5                                                   0                                                                        \n",
       "7                                                   0                                                                        \n",
       "11                                                  0                                                                        \n",
       "13                                                  0                                                                        \n",
       "\n",
       "    grupo ocupacional_Técnicos e profissionais nível médio  \n",
       "2                                                   0       \n",
       "5                                                   0       \n",
       "7                                                   0       \n",
       "11                                                  0       \n",
       "13                                                  0       \n",
       "\n",
       "[5 rows x 63 columns]"
      ]
     },
     "execution_count": 125,
     "metadata": {},
     "output_type": "execute_result"
    }
   ],
   "source": [
    "df_semnan.head()"
   ]
  },
  {
   "cell_type": "code",
   "execution_count": 126,
   "metadata": {},
   "outputs": [
    {
     "data": {
      "text/plain": [
       "Index(['Trimestre', 'Idade do morador na data de referência',\n",
       "       'Faixa de rendimento', 'Anos de estudo', 'Horas trabalhadas',\n",
       "       'Ano_2019', 'Ano_2020', 'UF_Alagoas', 'UF_Amapá', 'UF_Amazonas',\n",
       "       'UF_Bahia', 'UF_Ceará', 'UF_Distrito Federal', 'UF_Espírito Santo',\n",
       "       'UF_Goiás', 'UF_Maranhão', 'UF_Mato Grosso', 'UF_Mato Grosso do Sul',\n",
       "       'UF_Minas Gerais', 'UF_Paraná', 'UF_Paraíba', 'UF_Pará',\n",
       "       'UF_Pernambuco', 'UF_Piauí', 'UF_Rio Grande do Norte',\n",
       "       'UF_Rio Grande do Sul', 'UF_Rio de Janeiro', 'UF_Rondônia',\n",
       "       'UF_Roraima', 'UF_Santa Catarina', 'UF_Sergipe', 'UF_São Paulo',\n",
       "       'UF_Tocantins', 'Sexo_Mulher', 'Cor ou raça_Branca',\n",
       "       'Cor ou raça_Ignorado', 'Cor ou raça_Parda', 'Cor ou raça_Preta',\n",
       "       'Cor ou raça_indígena',\n",
       "       'Nível de instrução_Superior incompleto ou equivalente',\n",
       "       'Nível de instrução_ensino médio completo ou equivalente',\n",
       "       'Nível de instrução_ensino médio incompleto ou equivalente ',\n",
       "       'Nível de instrução_fundamental completo ou equivalente',\n",
       "       'Nível de instrução_fundamental incompleto ou equivalente',\n",
       "       'Nível de instrução_sem instrução ou menos de um ano de estudo',\n",
       "       'Tipo de ocupação_Empregador',\n",
       "       'Tipo de ocupação_Militar e serviço estatutário ',\n",
       "       'Tipo de ocupação_Trabalhador domestico CLT',\n",
       "       'Tipo de ocupação_Trabalhador domestico sem CLT ',\n",
       "       'Tipo de ocupação_empregado setor privado CLT',\n",
       "       'Tipo de ocupação_empregado setor privado sem CLT',\n",
       "       'Tipo de ocupação_empregado setor público CLT',\n",
       "       'Tipo de ocupação_empregado setor público sem CLT',\n",
       "       'grupo ocupacional_Membros das forças armadas, policiais e bombeiros militares',\n",
       "       'grupo ocupacional_Ocupações elementares',\n",
       "       'grupo ocupacional_Ocupações maldefinidas ',\n",
       "       'grupo ocupacional_Operadores de instalações e máquinas e montadores',\n",
       "       'grupo ocupacional_Proficionais das ciências e intelectuais',\n",
       "       'grupo ocupacional_Trabalhadores de apoio administrativo',\n",
       "       'grupo ocupacional_Trabalhadores de serviços,vendedores dos comércios e supermercados',\n",
       "       'grupo ocupacional_Trabalhadores qualificados da agropecuária, florestais, da caça e da pesca',\n",
       "       'grupo ocupacional_Trabalhadores qualificados, operários e artesões da construção, das artes mecânicas e outros ofícios',\n",
       "       'grupo ocupacional_Técnicos e profissionais nível médio'],\n",
       "      dtype='object')"
      ]
     },
     "execution_count": 126,
     "metadata": {},
     "output_type": "execute_result"
    }
   ],
   "source": [
    "df_semnan.columns"
   ]
  },
  {
   "cell_type": "code",
   "execution_count": 127,
   "metadata": {},
   "outputs": [
    {
     "data": {
      "text/plain": [
       "(192456, 62)"
      ]
     },
     "execution_count": 127,
     "metadata": {},
     "output_type": "execute_result"
    }
   ],
   "source": [
    "X = df_semnan.drop('Faixa de rendimento', axis = 1)\n",
    "X.shape"
   ]
  },
  {
   "cell_type": "code",
   "execution_count": 128,
   "metadata": {},
   "outputs": [
    {
     "data": {
      "text/html": [
       "<div>\n",
       "<style scoped>\n",
       "    .dataframe tbody tr th:only-of-type {\n",
       "        vertical-align: middle;\n",
       "    }\n",
       "\n",
       "    .dataframe tbody tr th {\n",
       "        vertical-align: top;\n",
       "    }\n",
       "\n",
       "    .dataframe thead th {\n",
       "        text-align: right;\n",
       "    }\n",
       "</style>\n",
       "<table border=\"1\" class=\"dataframe\">\n",
       "  <thead>\n",
       "    <tr style=\"text-align: right;\">\n",
       "      <th></th>\n",
       "      <th>Trimestre</th>\n",
       "      <th>Idade do morador na data de referência</th>\n",
       "      <th>Anos de estudo</th>\n",
       "      <th>Horas trabalhadas</th>\n",
       "      <th>Ano_2019</th>\n",
       "      <th>Ano_2020</th>\n",
       "      <th>UF_Alagoas</th>\n",
       "      <th>UF_Amapá</th>\n",
       "      <th>UF_Amazonas</th>\n",
       "      <th>UF_Bahia</th>\n",
       "      <th>...</th>\n",
       "      <th>grupo ocupacional_Membros das forças armadas, policiais e bombeiros militares</th>\n",
       "      <th>grupo ocupacional_Ocupações elementares</th>\n",
       "      <th>grupo ocupacional_Ocupações maldefinidas</th>\n",
       "      <th>grupo ocupacional_Operadores de instalações e máquinas e montadores</th>\n",
       "      <th>grupo ocupacional_Proficionais das ciências e intelectuais</th>\n",
       "      <th>grupo ocupacional_Trabalhadores de apoio administrativo</th>\n",
       "      <th>grupo ocupacional_Trabalhadores de serviços,vendedores dos comércios e supermercados</th>\n",
       "      <th>grupo ocupacional_Trabalhadores qualificados da agropecuária, florestais, da caça e da pesca</th>\n",
       "      <th>grupo ocupacional_Trabalhadores qualificados, operários e artesões da construção, das artes mecânicas e outros ofícios</th>\n",
       "      <th>grupo ocupacional_Técnicos e profissionais nível médio</th>\n",
       "    </tr>\n",
       "  </thead>\n",
       "  <tbody>\n",
       "    <tr>\n",
       "      <td>2</td>\n",
       "      <td>1</td>\n",
       "      <td>28</td>\n",
       "      <td>16</td>\n",
       "      <td>3</td>\n",
       "      <td>0</td>\n",
       "      <td>0</td>\n",
       "      <td>0</td>\n",
       "      <td>0</td>\n",
       "      <td>0</td>\n",
       "      <td>0</td>\n",
       "      <td>...</td>\n",
       "      <td>0</td>\n",
       "      <td>0</td>\n",
       "      <td>0</td>\n",
       "      <td>0</td>\n",
       "      <td>1</td>\n",
       "      <td>0</td>\n",
       "      <td>0</td>\n",
       "      <td>0</td>\n",
       "      <td>0</td>\n",
       "      <td>0</td>\n",
       "    </tr>\n",
       "    <tr>\n",
       "      <td>5</td>\n",
       "      <td>1</td>\n",
       "      <td>33</td>\n",
       "      <td>12</td>\n",
       "      <td>5</td>\n",
       "      <td>0</td>\n",
       "      <td>0</td>\n",
       "      <td>0</td>\n",
       "      <td>0</td>\n",
       "      <td>0</td>\n",
       "      <td>1</td>\n",
       "      <td>...</td>\n",
       "      <td>0</td>\n",
       "      <td>0</td>\n",
       "      <td>0</td>\n",
       "      <td>1</td>\n",
       "      <td>0</td>\n",
       "      <td>0</td>\n",
       "      <td>0</td>\n",
       "      <td>0</td>\n",
       "      <td>0</td>\n",
       "      <td>0</td>\n",
       "    </tr>\n",
       "    <tr>\n",
       "      <td>7</td>\n",
       "      <td>1</td>\n",
       "      <td>26</td>\n",
       "      <td>12</td>\n",
       "      <td>2</td>\n",
       "      <td>0</td>\n",
       "      <td>0</td>\n",
       "      <td>0</td>\n",
       "      <td>0</td>\n",
       "      <td>0</td>\n",
       "      <td>0</td>\n",
       "      <td>...</td>\n",
       "      <td>0</td>\n",
       "      <td>0</td>\n",
       "      <td>0</td>\n",
       "      <td>0</td>\n",
       "      <td>0</td>\n",
       "      <td>0</td>\n",
       "      <td>1</td>\n",
       "      <td>0</td>\n",
       "      <td>0</td>\n",
       "      <td>0</td>\n",
       "    </tr>\n",
       "    <tr>\n",
       "      <td>11</td>\n",
       "      <td>1</td>\n",
       "      <td>18</td>\n",
       "      <td>12</td>\n",
       "      <td>3</td>\n",
       "      <td>0</td>\n",
       "      <td>0</td>\n",
       "      <td>0</td>\n",
       "      <td>0</td>\n",
       "      <td>0</td>\n",
       "      <td>0</td>\n",
       "      <td>...</td>\n",
       "      <td>0</td>\n",
       "      <td>0</td>\n",
       "      <td>0</td>\n",
       "      <td>0</td>\n",
       "      <td>0</td>\n",
       "      <td>1</td>\n",
       "      <td>0</td>\n",
       "      <td>0</td>\n",
       "      <td>0</td>\n",
       "      <td>0</td>\n",
       "    </tr>\n",
       "    <tr>\n",
       "      <td>13</td>\n",
       "      <td>1</td>\n",
       "      <td>18</td>\n",
       "      <td>13</td>\n",
       "      <td>2</td>\n",
       "      <td>0</td>\n",
       "      <td>0</td>\n",
       "      <td>0</td>\n",
       "      <td>0</td>\n",
       "      <td>0</td>\n",
       "      <td>0</td>\n",
       "      <td>...</td>\n",
       "      <td>0</td>\n",
       "      <td>0</td>\n",
       "      <td>0</td>\n",
       "      <td>0</td>\n",
       "      <td>1</td>\n",
       "      <td>0</td>\n",
       "      <td>0</td>\n",
       "      <td>0</td>\n",
       "      <td>0</td>\n",
       "      <td>0</td>\n",
       "    </tr>\n",
       "  </tbody>\n",
       "</table>\n",
       "<p>5 rows × 62 columns</p>\n",
       "</div>"
      ],
      "text/plain": [
       "    Trimestre  Idade do morador na data de referência  Anos de estudo  \\\n",
       "2           1                                      28              16   \n",
       "5           1                                      33              12   \n",
       "7           1                                      26              12   \n",
       "11          1                                      18              12   \n",
       "13          1                                      18              13   \n",
       "\n",
       "    Horas trabalhadas  Ano_2019  Ano_2020  UF_Alagoas  UF_Amapá  UF_Amazonas  \\\n",
       "2                   3         0         0           0         0            0   \n",
       "5                   5         0         0           0         0            0   \n",
       "7                   2         0         0           0         0            0   \n",
       "11                  3         0         0           0         0            0   \n",
       "13                  2         0         0           0         0            0   \n",
       "\n",
       "    UF_Bahia  ...  \\\n",
       "2          0  ...   \n",
       "5          1  ...   \n",
       "7          0  ...   \n",
       "11         0  ...   \n",
       "13         0  ...   \n",
       "\n",
       "    grupo ocupacional_Membros das forças armadas, policiais e bombeiros militares  \\\n",
       "2                                                   0                               \n",
       "5                                                   0                               \n",
       "7                                                   0                               \n",
       "11                                                  0                               \n",
       "13                                                  0                               \n",
       "\n",
       "    grupo ocupacional_Ocupações elementares  \\\n",
       "2                                         0   \n",
       "5                                         0   \n",
       "7                                         0   \n",
       "11                                        0   \n",
       "13                                        0   \n",
       "\n",
       "    grupo ocupacional_Ocupações maldefinidas   \\\n",
       "2                                           0   \n",
       "5                                           0   \n",
       "7                                           0   \n",
       "11                                          0   \n",
       "13                                          0   \n",
       "\n",
       "    grupo ocupacional_Operadores de instalações e máquinas e montadores  \\\n",
       "2                                                   0                     \n",
       "5                                                   1                     \n",
       "7                                                   0                     \n",
       "11                                                  0                     \n",
       "13                                                  0                     \n",
       "\n",
       "    grupo ocupacional_Proficionais das ciências e intelectuais  \\\n",
       "2                                                   1            \n",
       "5                                                   0            \n",
       "7                                                   0            \n",
       "11                                                  0            \n",
       "13                                                  1            \n",
       "\n",
       "    grupo ocupacional_Trabalhadores de apoio administrativo  \\\n",
       "2                                                   0         \n",
       "5                                                   0         \n",
       "7                                                   0         \n",
       "11                                                  1         \n",
       "13                                                  0         \n",
       "\n",
       "    grupo ocupacional_Trabalhadores de serviços,vendedores dos comércios e supermercados  \\\n",
       "2                                                   0                                      \n",
       "5                                                   0                                      \n",
       "7                                                   1                                      \n",
       "11                                                  0                                      \n",
       "13                                                  0                                      \n",
       "\n",
       "    grupo ocupacional_Trabalhadores qualificados da agropecuária, florestais, da caça e da pesca  \\\n",
       "2                                                   0                                              \n",
       "5                                                   0                                              \n",
       "7                                                   0                                              \n",
       "11                                                  0                                              \n",
       "13                                                  0                                              \n",
       "\n",
       "    grupo ocupacional_Trabalhadores qualificados, operários e artesões da construção, das artes mecânicas e outros ofícios  \\\n",
       "2                                                   0                                                                        \n",
       "5                                                   0                                                                        \n",
       "7                                                   0                                                                        \n",
       "11                                                  0                                                                        \n",
       "13                                                  0                                                                        \n",
       "\n",
       "    grupo ocupacional_Técnicos e profissionais nível médio  \n",
       "2                                                   0       \n",
       "5                                                   0       \n",
       "7                                                   0       \n",
       "11                                                  0       \n",
       "13                                                  0       \n",
       "\n",
       "[5 rows x 62 columns]"
      ]
     },
     "execution_count": 128,
     "metadata": {},
     "output_type": "execute_result"
    }
   ],
   "source": [
    "X.head()"
   ]
  },
  {
   "cell_type": "code",
   "execution_count": 129,
   "metadata": {},
   "outputs": [
    {
     "data": {
      "text/plain": [
       "(192456,)"
      ]
     },
     "execution_count": 129,
     "metadata": {},
     "output_type": "execute_result"
    }
   ],
   "source": [
    "y = df_semnan['Faixa de rendimento']\n",
    "y.shape"
   ]
  },
  {
   "cell_type": "code",
   "execution_count": 130,
   "metadata": {},
   "outputs": [
    {
     "data": {
      "text/plain": [
       "2     1\n",
       "5     1\n",
       "7     1\n",
       "11    1\n",
       "13    1\n",
       "Name: Faixa de rendimento, dtype: int64"
      ]
     },
     "execution_count": 130,
     "metadata": {},
     "output_type": "execute_result"
    }
   ],
   "source": [
    "y.head()"
   ]
  },
  {
   "cell_type": "code",
   "execution_count": 131,
   "metadata": {},
   "outputs": [],
   "source": [
    "from sklearn.model_selection import train_test_split"
   ]
  },
  {
   "cell_type": "code",
   "execution_count": 132,
   "metadata": {},
   "outputs": [],
   "source": [
    "X_train, X_test, y_train, y_test = train_test_split(X, y, test_size=0.33, random_state=42,stratify = y)"
   ]
  },
  {
   "cell_type": "code",
   "execution_count": 133,
   "metadata": {},
   "outputs": [],
   "source": [
    "from sklearn.ensemble import RandomForestClassifier"
   ]
  },
  {
   "cell_type": "code",
   "execution_count": 134,
   "metadata": {},
   "outputs": [],
   "source": [
    "rf = RandomForestClassifier()"
   ]
  },
  {
   "cell_type": "code",
   "execution_count": 135,
   "metadata": {},
   "outputs": [
    {
     "name": "stderr",
     "output_type": "stream",
     "text": [
      "C:\\Users\\jcuri\\Documents\\anaconda\\lib\\site-packages\\sklearn\\ensemble\\forest.py:245: FutureWarning: The default value of n_estimators will change from 10 in version 0.20 to 100 in 0.22.\n",
      "  \"10 in version 0.20 to 100 in 0.22.\", FutureWarning)\n"
     ]
    },
    {
     "data": {
      "text/plain": [
       "RandomForestClassifier(bootstrap=True, class_weight=None, criterion='gini',\n",
       "                       max_depth=None, max_features='auto', max_leaf_nodes=None,\n",
       "                       min_impurity_decrease=0.0, min_impurity_split=None,\n",
       "                       min_samples_leaf=1, min_samples_split=2,\n",
       "                       min_weight_fraction_leaf=0.0, n_estimators=10,\n",
       "                       n_jobs=None, oob_score=False, random_state=None,\n",
       "                       verbose=0, warm_start=False)"
      ]
     },
     "execution_count": 135,
     "metadata": {},
     "output_type": "execute_result"
    }
   ],
   "source": [
    "rf.fit(X_train,y_train)"
   ]
  },
  {
   "cell_type": "code",
   "execution_count": 136,
   "metadata": {},
   "outputs": [],
   "source": [
    "pred = rf.predict(X_test)"
   ]
  },
  {
   "cell_type": "code",
   "execution_count": 137,
   "metadata": {},
   "outputs": [
    {
     "data": {
      "image/png": "[encoded data removed]",
      "text/plain": [
       "<Figure size 432x288 with 1 Axes>"
      ]
     },
     "metadata": {
      "needs_background": "light"
     },
     "output_type": "display_data"
    }
   ],
   "source": [
    "y.value_counts().plot(kind = 'bar');"
   ]
  },
  {
   "cell_type": "code",
   "execution_count": 138,
   "metadata": {},
   "outputs": [],
   "source": [
    "from sklearn.metrics import classification_report,confusion_matrix"
   ]
  },
  {
   "cell_type": "code",
   "execution_count": 139,
   "metadata": {},
   "outputs": [
    {
     "name": "stdout",
     "output_type": "stream",
     "text": [
      "              precision    recall  f1-score   support\n",
      "\n",
      "           1       0.90      0.96      0.93     53197\n",
      "           2       0.67      0.46      0.54     10314\n",
      "\n",
      "    accuracy                           0.88     63511\n",
      "   macro avg       0.79      0.71      0.74     63511\n",
      "weighted avg       0.86      0.88      0.87     63511\n",
      "\n",
      "[[50867  2330]\n",
      " [ 5584  4730]]\n"
     ]
    }
   ],
   "source": [
    "print(classification_report(y_test,pred))\n",
    "print(confusion_matrix(y_test,pred))"
   ]
  },
  {
   "cell_type": "code",
   "execution_count": 140,
   "metadata": {},
   "outputs": [],
   "source": [
    "from sklearn.model_selection import GridSearchCV"
   ]
  },
  {
   "cell_type": "code",
   "execution_count": 141,
   "metadata": {},
   "outputs": [],
   "source": [
    "params = {'n_estimators':range(10,200,10),'criterion':['gini', 'entropy']}"
   ]
  },
  {
   "cell_type": "code",
   "execution_count": 142,
   "metadata": {},
   "outputs": [],
   "source": [
    "gsrf = GridSearchCV(rf,param_grid=params,scoring= 'accuracy',cv=10)"
   ]
  },
  {
   "cell_type": "code",
   "execution_count": 143,
   "metadata": {},
   "outputs": [
    {
     "data": {
      "text/plain": [
       "GridSearchCV(cv=10, error_score='raise-deprecating',\n",
       "             estimator=RandomForestClassifier(bootstrap=True, class_weight=None,\n",
       "                                              criterion='gini', max_depth=None,\n",
       "                                              max_features='auto',\n",
       "                                              max_leaf_nodes=None,\n",
       "                                              min_impurity_decrease=0.0,\n",
       "                                              min_impurity_split=None,\n",
       "                                              min_samples_leaf=1,\n",
       "                                              min_samples_split=2,\n",
       "                                              min_weight_fraction_leaf=0.0,\n",
       "                                              n_estimators=10, n_jobs=None,\n",
       "                                              oob_score=False,\n",
       "                                              random_state=None, verbose=0,\n",
       "                                              warm_start=False),\n",
       "             iid='warn', n_jobs=None,\n",
       "             param_grid={'criterion': ['gini', 'entropy'],\n",
       "                         'n_estimators': range(10, 200, 10)},\n",
       "             pre_dispatch='2*n_jobs', refit=True, return_train_score=False,\n",
       "             scoring='accuracy', verbose=0)"
      ]
     },
     "execution_count": 143,
     "metadata": {},
     "output_type": "execute_result"
    }
   ],
   "source": [
    "gsrf.fit(X_train,y_train)"
   ]
  },
  {
   "cell_type": "code",
   "execution_count": 144,
   "metadata": {},
   "outputs": [
    {
     "data": {
      "text/plain": [
       "RandomForestClassifier(bootstrap=True, class_weight=None, criterion='entropy',\n",
       "                       max_depth=None, max_features='auto', max_leaf_nodes=None,\n",
       "                       min_impurity_decrease=0.0, min_impurity_split=None,\n",
       "                       min_samples_leaf=1, min_samples_split=2,\n",
       "                       min_weight_fraction_leaf=0.0, n_estimators=170,\n",
       "                       n_jobs=None, oob_score=False, random_state=None,\n",
       "                       verbose=0, warm_start=False)"
      ]
     },
     "execution_count": 144,
     "metadata": {},
     "output_type": "execute_result"
    }
   ],
   "source": [
    "gsrf.best_estimator_"
   ]
  },
  {
   "cell_type": "code",
   "execution_count": 145,
   "metadata": {},
   "outputs": [
    {
     "data": {
      "text/plain": [
       "0.8802357594323161"
      ]
     },
     "execution_count": 145,
     "metadata": {},
     "output_type": "execute_result"
    }
   ],
   "source": [
    "gsrf.best_score_"
   ]
  },
  {
   "cell_type": "code",
   "execution_count": 146,
   "metadata": {},
   "outputs": [],
   "source": [
    "gsrf1 = GridSearchCV(rf,param_grid=params,scoring= 'f1_micro',cv=10)"
   ]
  },
  {
   "cell_type": "code",
   "execution_count": 147,
   "metadata": {},
   "outputs": [
    {
     "data": {
      "text/plain": [
       "GridSearchCV(cv=10, error_score='raise-deprecating',\n",
       "             estimator=RandomForestClassifier(bootstrap=True, class_weight=None,\n",
       "                                              criterion='gini', max_depth=None,\n",
       "                                              max_features='auto',\n",
       "                                              max_leaf_nodes=None,\n",
       "                                              min_impurity_decrease=0.0,\n",
       "                                              min_impurity_split=None,\n",
       "                                              min_samples_leaf=1,\n",
       "                                              min_samples_split=2,\n",
       "                                              min_weight_fraction_leaf=0.0,\n",
       "                                              n_estimators=10, n_jobs=None,\n",
       "                                              oob_score=False,\n",
       "                                              random_state=None, verbose=0,\n",
       "                                              warm_start=False),\n",
       "             iid='warn', n_jobs=None,\n",
       "             param_grid={'criterion': ['gini', 'entropy'],\n",
       "                         'n_estimators': range(10, 200, 10)},\n",
       "             pre_dispatch='2*n_jobs', refit=True, return_train_score=False,\n",
       "             scoring='f1_micro', verbose=0)"
      ]
     },
     "execution_count": 147,
     "metadata": {},
     "output_type": "execute_result"
    }
   ],
   "source": [
    "gsrf1.fit(X_train,y_train)"
   ]
  },
  {
   "cell_type": "code",
   "execution_count": 148,
   "metadata": {},
   "outputs": [
    {
     "data": {
      "text/plain": [
       "RandomForestClassifier(bootstrap=True, class_weight=None, criterion='entropy',\n",
       "                       max_depth=None, max_features='auto', max_leaf_nodes=None,\n",
       "                       min_impurity_decrease=0.0, min_impurity_split=None,\n",
       "                       min_samples_leaf=1, min_samples_split=2,\n",
       "                       min_weight_fraction_leaf=0.0, n_estimators=180,\n",
       "                       n_jobs=None, oob_score=False, random_state=None,\n",
       "                       verbose=0, warm_start=False)"
      ]
     },
     "execution_count": 148,
     "metadata": {},
     "output_type": "execute_result"
    }
   ],
   "source": [
    "gsrf1.best_estimator_"
   ]
  },
  {
   "cell_type": "code",
   "execution_count": 149,
   "metadata": {},
   "outputs": [
    {
     "data": {
      "text/plain": [
       "0.8806157664120361"
      ]
     },
     "execution_count": 149,
     "metadata": {},
     "output_type": "execute_result"
    }
   ],
   "source": [
    "gsrf1.best_score_"
   ]
  },
  {
   "cell_type": "code",
   "execution_count": 150,
   "metadata": {},
   "outputs": [],
   "source": [
    "gsr = GridSearchCV(rf,param_grid=params,scoring= 'balanced_accuracy',cv=10)"
   ]
  },
  {
   "cell_type": "code",
   "execution_count": 151,
   "metadata": {
    "scrolled": false
   },
   "outputs": [
    {
     "data": {
      "text/plain": [
       "GridSearchCV(cv=10, error_score='raise-deprecating',\n",
       "             estimator=RandomForestClassifier(bootstrap=True, class_weight=None,\n",
       "                                              criterion='gini', max_depth=None,\n",
       "                                              max_features='auto',\n",
       "                                              max_leaf_nodes=None,\n",
       "                                              min_impurity_decrease=0.0,\n",
       "                                              min_impurity_split=None,\n",
       "                                              min_samples_leaf=1,\n",
       "                                              min_samples_split=2,\n",
       "                                              min_weight_fraction_leaf=0.0,\n",
       "                                              n_estimators=10, n_jobs=None,\n",
       "                                              oob_score=False,\n",
       "                                              random_state=None, verbose=0,\n",
       "                                              warm_start=False),\n",
       "             iid='warn', n_jobs=None,\n",
       "             param_grid={'criterion': ['gini', 'entropy'],\n",
       "                         'n_estimators': range(10, 200, 10)},\n",
       "             pre_dispatch='2*n_jobs', refit=True, return_train_score=False,\n",
       "             scoring='balanced_accuracy', verbose=0)"
      ]
     },
     "execution_count": 151,
     "metadata": {},
     "output_type": "execute_result"
    }
   ],
   "source": [
    "gsr.fit(X_train,y_train)"
   ]
  },
  {
   "cell_type": "code",
   "execution_count": 152,
   "metadata": {},
   "outputs": [
    {
     "data": {
      "text/plain": [
       "RandomForestClassifier(bootstrap=True, class_weight=None, criterion='gini',\n",
       "                       max_depth=None, max_features='auto', max_leaf_nodes=None,\n",
       "                       min_impurity_decrease=0.0, min_impurity_split=None,\n",
       "                       min_samples_leaf=1, min_samples_split=2,\n",
       "                       min_weight_fraction_leaf=0.0, n_estimators=150,\n",
       "                       n_jobs=None, oob_score=False, random_state=None,\n",
       "                       verbose=0, warm_start=False)"
      ]
     },
     "execution_count": 152,
     "metadata": {},
     "output_type": "execute_result"
    }
   ],
   "source": [
    "gsr.best_estimator_"
   ]
  },
  {
   "cell_type": "code",
   "execution_count": 153,
   "metadata": {},
   "outputs": [
    {
     "data": {
      "text/plain": [
       "0.7279630621498538"
      ]
     },
     "execution_count": 153,
     "metadata": {},
     "output_type": "execute_result"
    }
   ],
   "source": [
    "gsr.best_score_"
   ]
  },
  {
   "cell_type": "code",
   "execution_count": 154,
   "metadata": {},
   "outputs": [],
   "source": [
    "gsrf2 = GridSearchCV(rf,param_grid=params,scoring= 'f1_macro',cv=10)"
   ]
  },
  {
   "cell_type": "code",
   "execution_count": 155,
   "metadata": {},
   "outputs": [
    {
     "data": {
      "text/plain": [
       "GridSearchCV(cv=10, error_score='raise-deprecating',\n",
       "             estimator=RandomForestClassifier(bootstrap=True, class_weight=None,\n",
       "                                              criterion='gini', max_depth=None,\n",
       "                                              max_features='auto',\n",
       "                                              max_leaf_nodes=None,\n",
       "                                              min_impurity_decrease=0.0,\n",
       "                                              min_impurity_split=None,\n",
       "                                              min_samples_leaf=1,\n",
       "                                              min_samples_split=2,\n",
       "                                              min_weight_fraction_leaf=0.0,\n",
       "                                              n_estimators=10, n_jobs=None,\n",
       "                                              oob_score=False,\n",
       "                                              random_state=None, verbose=0,\n",
       "                                              warm_start=False),\n",
       "             iid='warn', n_jobs=None,\n",
       "             param_grid={'criterion': ['gini', 'entropy'],\n",
       "                         'n_estimators': range(10, 200, 10)},\n",
       "             pre_dispatch='2*n_jobs', refit=True, return_train_score=False,\n",
       "             scoring='f1_macro', verbose=0)"
      ]
     },
     "execution_count": 155,
     "metadata": {},
     "output_type": "execute_result"
    }
   ],
   "source": [
    "gsrf2.fit(X_train,y_train)"
   ]
  },
  {
   "cell_type": "code",
   "execution_count": 156,
   "metadata": {},
   "outputs": [
    {
     "data": {
      "text/plain": [
       "0.7537134695212225"
      ]
     },
     "execution_count": 156,
     "metadata": {},
     "output_type": "execute_result"
    }
   ],
   "source": [
    "gsrf2.best_score_"
   ]
  },
  {
   "cell_type": "code",
   "execution_count": 157,
   "metadata": {},
   "outputs": [
    {
     "data": {
      "text/plain": [
       "RandomForestClassifier(bootstrap=True, class_weight=None, criterion='entropy',\n",
       "                       max_depth=None, max_features='auto', max_leaf_nodes=None,\n",
       "                       min_impurity_decrease=0.0, min_impurity_split=None,\n",
       "                       min_samples_leaf=1, min_samples_split=2,\n",
       "                       min_weight_fraction_leaf=0.0, n_estimators=160,\n",
       "                       n_jobs=None, oob_score=False, random_state=None,\n",
       "                       verbose=0, warm_start=False)"
      ]
     },
     "execution_count": 157,
     "metadata": {},
     "output_type": "execute_result"
    }
   ],
   "source": [
    "gsrf2.best_estimator_"
   ]
  },
  {
   "cell_type": "code",
   "execution_count": 158,
   "metadata": {},
   "outputs": [
    {
     "data": {
      "text/plain": [
       "1    161203\n",
       "2     31253\n",
       "Name: Faixa de rendimento, dtype: int64"
      ]
     },
     "execution_count": 158,
     "metadata": {},
     "output_type": "execute_result"
    }
   ],
   "source": [
    "y.value_counts()"
   ]
  },
  {
   "cell_type": "code",
   "execution_count": 159,
   "metadata": {},
   "outputs": [],
   "source": [
    "gsr_rou = GridSearchCV(rf,param_grid=params,scoring= 'roc_auc',cv=10)"
   ]
  },
  {
   "cell_type": "code",
   "execution_count": 160,
   "metadata": {},
   "outputs": [
    {
     "ename": "AttributeError",
     "evalue": "'GridSearchCV' object has no attribute 'best_score_'",
     "output_type": "error",
     "traceback": [
      "\u001b[1;31m---------------------------------------------------------------------------\u001b[0m",
      "\u001b[1;31mAttributeError\u001b[0m                            Traceback (most recent call last)",
      "\u001b[1;32m<ipython-input-160-12dff95c971c>\u001b[0m in \u001b[0;36m<module>\u001b[1;34m\u001b[0m\n\u001b[1;32m----> 1\u001b[1;33m \u001b[0mgsr_rou\u001b[0m\u001b[1;33m.\u001b[0m\u001b[0mbest_score_\u001b[0m\u001b[1;33m\u001b[0m\u001b[1;33m\u001b[0m\u001b[0m\n\u001b[0m",
      "\u001b[1;31mAttributeError\u001b[0m: 'GridSearchCV' object has no attribute 'best_score_'"
     ]
    }
   ],
   "source": [
    "gsr_rou.best_score_"
   ]
  },
  {
   "cell_type": "code",
   "execution_count": 161,
   "metadata": {},
   "outputs": [],
   "source": [
    "params2 = {'n_estimators':range(20,400,20),'criterion':['gini', 'entropy']}"
   ]
  },
  {
   "cell_type": "code",
   "execution_count": 162,
   "metadata": {},
   "outputs": [],
   "source": [
    "gsrf1_params2 = GridSearchCV(rf,param_grid=params2,scoring= 'f1_micro',cv=10)"
   ]
  },
  {
   "cell_type": "code",
   "execution_count": 163,
   "metadata": {},
   "outputs": [
    {
     "data": {
      "text/plain": [
       "GridSearchCV(cv=10, error_score='raise-deprecating',\n",
       "             estimator=RandomForestClassifier(bootstrap=True, class_weight=None,\n",
       "                                              criterion='gini', max_depth=None,\n",
       "                                              max_features='auto',\n",
       "                                              max_leaf_nodes=None,\n",
       "                                              min_impurity_decrease=0.0,\n",
       "                                              min_impurity_split=None,\n",
       "                                              min_samples_leaf=1,\n",
       "                                              min_samples_split=2,\n",
       "                                              min_weight_fraction_leaf=0.0,\n",
       "                                              n_estimators=10, n_jobs=None,\n",
       "                                              oob_score=False,\n",
       "                                              random_state=None, verbose=0,\n",
       "                                              warm_start=False),\n",
       "             iid='warn', n_jobs=None,\n",
       "             param_grid={'criterion': ['gini', 'entropy'],\n",
       "                         'n_estimators': range(20, 400, 20)},\n",
       "             pre_dispatch='2*n_jobs', refit=True, return_train_score=False,\n",
       "             scoring='f1_micro', verbose=0)"
      ]
     },
     "execution_count": 163,
     "metadata": {},
     "output_type": "execute_result"
    }
   ],
   "source": [
    "gsrf1_params2.fit(X_train,y_train)"
   ]
  },
  {
   "cell_type": "code",
   "execution_count": 164,
   "metadata": {},
   "outputs": [
    {
     "data": {
      "text/plain": [
       "RandomForestClassifier(bootstrap=True, class_weight=None, criterion='entropy',\n",
       "                       max_depth=None, max_features='auto', max_leaf_nodes=None,\n",
       "                       min_impurity_decrease=0.0, min_impurity_split=None,\n",
       "                       min_samples_leaf=1, min_samples_split=2,\n",
       "                       min_weight_fraction_leaf=0.0, n_estimators=280,\n",
       "                       n_jobs=None, oob_score=False, random_state=None,\n",
       "                       verbose=0, warm_start=False)"
      ]
     },
     "execution_count": 164,
     "metadata": {},
     "output_type": "execute_result"
    }
   ],
   "source": [
    "gsrf1_params2.best_estimator_"
   ]
  },
  {
   "cell_type": "code",
   "execution_count": 165,
   "metadata": {},
   "outputs": [
    {
     "data": {
      "text/plain": [
       "0.8807165845903292"
      ]
     },
     "execution_count": 165,
     "metadata": {},
     "output_type": "execute_result"
    }
   ],
   "source": [
    "gsrf1_params2.best_score_"
   ]
  },
  {
   "cell_type": "code",
   "execution_count": 166,
   "metadata": {},
   "outputs": [],
   "source": [
    "gsrre_params2 = GridSearchCV(rf,param_grid=params2,scoring= 'recall',cv=10)"
   ]
  },
  {
   "cell_type": "code",
   "execution_count": 167,
   "metadata": {},
   "outputs": [
    {
     "data": {
      "text/plain": [
       "GridSearchCV(cv=10, error_score='raise-deprecating',\n",
       "             estimator=RandomForestClassifier(bootstrap=True, class_weight=None,\n",
       "                                              criterion='gini', max_depth=None,\n",
       "                                              max_features='auto',\n",
       "                                              max_leaf_nodes=None,\n",
       "                                              min_impurity_decrease=0.0,\n",
       "                                              min_impurity_split=None,\n",
       "                                              min_samples_leaf=1,\n",
       "                                              min_samples_split=2,\n",
       "                                              min_weight_fraction_leaf=0.0,\n",
       "                                              n_estimators=10, n_jobs=None,\n",
       "                                              oob_score=False,\n",
       "                                              random_state=None, verbose=0,\n",
       "                                              warm_start=False),\n",
       "             iid='warn', n_jobs=None,\n",
       "             param_grid={'criterion': ['gini', 'entropy'],\n",
       "                         'n_estimators': range(20, 400, 20)},\n",
       "             pre_dispatch='2*n_jobs', refit=True, return_train_score=False,\n",
       "             scoring='recall', verbose=0)"
      ]
     },
     "execution_count": 167,
     "metadata": {},
     "output_type": "execute_result"
    }
   ],
   "source": [
    "gsrre_params2.fit(X_train,y_train)"
   ]
  },
  {
   "cell_type": "code",
   "execution_count": 168,
   "metadata": {},
   "outputs": [
    {
     "data": {
      "text/plain": [
       "RandomForestClassifier(bootstrap=True, class_weight=None, criterion='gini',\n",
       "                       max_depth=None, max_features='auto', max_leaf_nodes=None,\n",
       "                       min_impurity_decrease=0.0, min_impurity_split=None,\n",
       "                       min_samples_leaf=1, min_samples_split=2,\n",
       "                       min_weight_fraction_leaf=0.0, n_estimators=20,\n",
       "                       n_jobs=None, oob_score=False, random_state=None,\n",
       "                       verbose=0, warm_start=False)"
      ]
     },
     "execution_count": 168,
     "metadata": {},
     "output_type": "execute_result"
    }
   ],
   "source": [
    "gsrre_params2.best_estimator_"
   ]
  },
  {
   "cell_type": "code",
   "execution_count": 169,
   "metadata": {},
   "outputs": [
    {
     "data": {
      "text/plain": [
       "0.9541969784621762"
      ]
     },
     "execution_count": 169,
     "metadata": {},
     "output_type": "execute_result"
    }
   ],
   "source": [
    "gsrre_params2.best_score_"
   ]
  }
 ],
 "metadata": {
  "kernelspec": {
   "display_name": "Python 3",
   "language": "python",
   "name": "python3"
  },
  "language_info": {
   "codemirror_mode": {
    "name": "ipython",
    "version": 3
   },
   "file_extension": ".py",
   "mimetype": "text/x-python",
   "name": "python",
   "nbconvert_exporter": "python",
   "pygments_lexer": "ipython3",
   "version": "3.7.4"
  }
 },
 "nbformat": 4,
 "nbformat_minor": 4
}
